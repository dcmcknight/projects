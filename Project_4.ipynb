{
 "cells": [
  {
   "cell_type": "markdown",
   "metadata": {},
   "source": [
    "### Executive Summary\n",
    "\n",
    "* Model 1 presented a 61%/62% train/test accuracy with 6 features from cap surface and cap shape with 3 hidden layers.\n",
    "* Model 2 presented a 99%/99% train/test accuracy with 15 features from cap surface, cap shape, habitat, and odor with 3 hidden layers.\n",
    "* Model 3 presented a 98%/99% train/test accuracy with 15 features from cap surface, cap shape, habitat, and odor with 4 hidden layers.\n",
    "* Based on crosstab/visualization analysis (see Appendix), odor seems to be the strongest indicator of poisonous mushrooms.\n",
    "\n",
    "My recommendation is use model 2 as it returns the highest accuracy in determining if a mushroom is poisonous or edible."
   ]
  },
  {
   "cell_type": "markdown",
   "metadata": {},
   "source": [
    "### Preliminary Analysis"
   ]
  },
  {
   "cell_type": "code",
   "execution_count": 55,
   "metadata": {},
   "outputs": [
    {
     "data": {
      "text/html": [
       "<div>\n",
       "<style scoped>\n",
       "    .dataframe tbody tr th:only-of-type {\n",
       "        vertical-align: middle;\n",
       "    }\n",
       "\n",
       "    .dataframe tbody tr th {\n",
       "        vertical-align: top;\n",
       "    }\n",
       "\n",
       "    .dataframe thead th {\n",
       "        text-align: right;\n",
       "    }\n",
       "</style>\n",
       "<table border=\"1\" class=\"dataframe\">\n",
       "  <thead>\n",
       "    <tr style=\"text-align: right;\">\n",
       "      <th></th>\n",
       "      <th>class</th>\n",
       "      <th>cap-shape</th>\n",
       "      <th>cap-surface</th>\n",
       "      <th>cap-color</th>\n",
       "      <th>bruises</th>\n",
       "      <th>odor</th>\n",
       "      <th>gill-attachment</th>\n",
       "      <th>gill-spacing</th>\n",
       "      <th>gill-size</th>\n",
       "      <th>gill-color</th>\n",
       "      <th>...</th>\n",
       "      <th>stalk-surface-below-ring</th>\n",
       "      <th>stalk-color-above-ring</th>\n",
       "      <th>stalk-color-below-ring</th>\n",
       "      <th>veil-type</th>\n",
       "      <th>veil-color</th>\n",
       "      <th>ring-number</th>\n",
       "      <th>ring-type</th>\n",
       "      <th>spore-print-color</th>\n",
       "      <th>population</th>\n",
       "      <th>habitat</th>\n",
       "    </tr>\n",
       "  </thead>\n",
       "  <tbody>\n",
       "    <tr>\n",
       "      <th>0</th>\n",
       "      <td>p</td>\n",
       "      <td>x</td>\n",
       "      <td>s</td>\n",
       "      <td>n</td>\n",
       "      <td>t</td>\n",
       "      <td>p</td>\n",
       "      <td>f</td>\n",
       "      <td>c</td>\n",
       "      <td>n</td>\n",
       "      <td>k</td>\n",
       "      <td>...</td>\n",
       "      <td>s</td>\n",
       "      <td>w</td>\n",
       "      <td>w</td>\n",
       "      <td>p</td>\n",
       "      <td>w</td>\n",
       "      <td>o</td>\n",
       "      <td>p</td>\n",
       "      <td>k</td>\n",
       "      <td>s</td>\n",
       "      <td>u</td>\n",
       "    </tr>\n",
       "    <tr>\n",
       "      <th>1</th>\n",
       "      <td>e</td>\n",
       "      <td>x</td>\n",
       "      <td>s</td>\n",
       "      <td>y</td>\n",
       "      <td>t</td>\n",
       "      <td>a</td>\n",
       "      <td>f</td>\n",
       "      <td>c</td>\n",
       "      <td>b</td>\n",
       "      <td>k</td>\n",
       "      <td>...</td>\n",
       "      <td>s</td>\n",
       "      <td>w</td>\n",
       "      <td>w</td>\n",
       "      <td>p</td>\n",
       "      <td>w</td>\n",
       "      <td>o</td>\n",
       "      <td>p</td>\n",
       "      <td>n</td>\n",
       "      <td>n</td>\n",
       "      <td>g</td>\n",
       "    </tr>\n",
       "    <tr>\n",
       "      <th>2</th>\n",
       "      <td>e</td>\n",
       "      <td>b</td>\n",
       "      <td>s</td>\n",
       "      <td>w</td>\n",
       "      <td>t</td>\n",
       "      <td>l</td>\n",
       "      <td>f</td>\n",
       "      <td>c</td>\n",
       "      <td>b</td>\n",
       "      <td>n</td>\n",
       "      <td>...</td>\n",
       "      <td>s</td>\n",
       "      <td>w</td>\n",
       "      <td>w</td>\n",
       "      <td>p</td>\n",
       "      <td>w</td>\n",
       "      <td>o</td>\n",
       "      <td>p</td>\n",
       "      <td>n</td>\n",
       "      <td>n</td>\n",
       "      <td>m</td>\n",
       "    </tr>\n",
       "    <tr>\n",
       "      <th>3</th>\n",
       "      <td>p</td>\n",
       "      <td>x</td>\n",
       "      <td>y</td>\n",
       "      <td>w</td>\n",
       "      <td>t</td>\n",
       "      <td>p</td>\n",
       "      <td>f</td>\n",
       "      <td>c</td>\n",
       "      <td>n</td>\n",
       "      <td>n</td>\n",
       "      <td>...</td>\n",
       "      <td>s</td>\n",
       "      <td>w</td>\n",
       "      <td>w</td>\n",
       "      <td>p</td>\n",
       "      <td>w</td>\n",
       "      <td>o</td>\n",
       "      <td>p</td>\n",
       "      <td>k</td>\n",
       "      <td>s</td>\n",
       "      <td>u</td>\n",
       "    </tr>\n",
       "    <tr>\n",
       "      <th>4</th>\n",
       "      <td>e</td>\n",
       "      <td>x</td>\n",
       "      <td>s</td>\n",
       "      <td>g</td>\n",
       "      <td>f</td>\n",
       "      <td>n</td>\n",
       "      <td>f</td>\n",
       "      <td>w</td>\n",
       "      <td>b</td>\n",
       "      <td>k</td>\n",
       "      <td>...</td>\n",
       "      <td>s</td>\n",
       "      <td>w</td>\n",
       "      <td>w</td>\n",
       "      <td>p</td>\n",
       "      <td>w</td>\n",
       "      <td>o</td>\n",
       "      <td>e</td>\n",
       "      <td>n</td>\n",
       "      <td>a</td>\n",
       "      <td>g</td>\n",
       "    </tr>\n",
       "  </tbody>\n",
       "</table>\n",
       "<p>5 rows × 23 columns</p>\n",
       "</div>"
      ],
      "text/plain": [
       "  class cap-shape cap-surface cap-color bruises odor gill-attachment  \\\n",
       "0     p         x           s         n       t    p               f   \n",
       "1     e         x           s         y       t    a               f   \n",
       "2     e         b           s         w       t    l               f   \n",
       "3     p         x           y         w       t    p               f   \n",
       "4     e         x           s         g       f    n               f   \n",
       "\n",
       "  gill-spacing gill-size gill-color   ...   stalk-surface-below-ring  \\\n",
       "0            c         n          k   ...                          s   \n",
       "1            c         b          k   ...                          s   \n",
       "2            c         b          n   ...                          s   \n",
       "3            c         n          n   ...                          s   \n",
       "4            w         b          k   ...                          s   \n",
       "\n",
       "  stalk-color-above-ring stalk-color-below-ring veil-type veil-color  \\\n",
       "0                      w                      w         p          w   \n",
       "1                      w                      w         p          w   \n",
       "2                      w                      w         p          w   \n",
       "3                      w                      w         p          w   \n",
       "4                      w                      w         p          w   \n",
       "\n",
       "  ring-number ring-type spore-print-color population habitat  \n",
       "0           o         p                 k          s       u  \n",
       "1           o         p                 n          n       g  \n",
       "2           o         p                 n          n       m  \n",
       "3           o         p                 k          s       u  \n",
       "4           o         e                 n          a       g  \n",
       "\n",
       "[5 rows x 23 columns]"
      ]
     },
     "execution_count": 55,
     "metadata": {},
     "output_type": "execute_result"
    }
   ],
   "source": [
    "import pandas as pd\n",
    "import seaborn as sns\n",
    "import numpy as np\n",
    "import matplotlib.pyplot as plt\n",
    "%matplotlib inline\n",
    "np.warnings.filterwarnings('ignore')\n",
    "sns.set()\n",
    "\n",
    "df = pd.read_csv('/Users/drewmcknight1/Desktop/MISY630/Fall 2020 Course Files/Assignments/mushrooms.csv')\n",
    "df.head()"
   ]
  },
  {
   "cell_type": "code",
   "execution_count": 56,
   "metadata": {},
   "outputs": [
    {
     "data": {
      "text/plain": [
       "class                       0\n",
       "cap-shape                   0\n",
       "cap-surface                 0\n",
       "cap-color                   0\n",
       "bruises                     0\n",
       "odor                        0\n",
       "gill-attachment             0\n",
       "gill-spacing                0\n",
       "gill-size                   0\n",
       "gill-color                  0\n",
       "stalk-shape                 0\n",
       "stalk-root                  0\n",
       "stalk-surface-above-ring    0\n",
       "stalk-surface-below-ring    0\n",
       "stalk-color-above-ring      0\n",
       "stalk-color-below-ring      0\n",
       "veil-type                   0\n",
       "veil-color                  0\n",
       "ring-number                 0\n",
       "ring-type                   0\n",
       "spore-print-color           0\n",
       "population                  0\n",
       "habitat                     0\n",
       "dtype: int64"
      ]
     },
     "execution_count": 56,
     "metadata": {},
     "output_type": "execute_result"
    }
   ],
   "source": [
    "df.isnull().sum()"
   ]
  },
  {
   "cell_type": "code",
   "execution_count": 57,
   "metadata": {},
   "outputs": [
    {
     "data": {
      "text/plain": [
       "e    4208\n",
       "p    3916\n",
       "Name: class, dtype: int64"
      ]
     },
     "execution_count": 57,
     "metadata": {},
     "output_type": "execute_result"
    }
   ],
   "source": [
    "df['class'].value_counts()"
   ]
  },
  {
   "cell_type": "code",
   "execution_count": 58,
   "metadata": {},
   "outputs": [
    {
     "data": {
      "text/html": [
       "<div>\n",
       "<style scoped>\n",
       "    .dataframe tbody tr th:only-of-type {\n",
       "        vertical-align: middle;\n",
       "    }\n",
       "\n",
       "    .dataframe tbody tr th {\n",
       "        vertical-align: top;\n",
       "    }\n",
       "\n",
       "    .dataframe thead th {\n",
       "        text-align: right;\n",
       "    }\n",
       "</style>\n",
       "<table border=\"1\" class=\"dataframe\">\n",
       "  <thead>\n",
       "    <tr style=\"text-align: right;\">\n",
       "      <th></th>\n",
       "      <th>count</th>\n",
       "      <th>unique</th>\n",
       "      <th>top</th>\n",
       "      <th>freq</th>\n",
       "    </tr>\n",
       "  </thead>\n",
       "  <tbody>\n",
       "    <tr>\n",
       "      <th>class</th>\n",
       "      <td>8124</td>\n",
       "      <td>2</td>\n",
       "      <td>e</td>\n",
       "      <td>4208</td>\n",
       "    </tr>\n",
       "    <tr>\n",
       "      <th>cap-shape</th>\n",
       "      <td>8124</td>\n",
       "      <td>6</td>\n",
       "      <td>x</td>\n",
       "      <td>3656</td>\n",
       "    </tr>\n",
       "    <tr>\n",
       "      <th>cap-surface</th>\n",
       "      <td>8124</td>\n",
       "      <td>4</td>\n",
       "      <td>y</td>\n",
       "      <td>3244</td>\n",
       "    </tr>\n",
       "    <tr>\n",
       "      <th>cap-color</th>\n",
       "      <td>8124</td>\n",
       "      <td>10</td>\n",
       "      <td>n</td>\n",
       "      <td>2284</td>\n",
       "    </tr>\n",
       "    <tr>\n",
       "      <th>bruises</th>\n",
       "      <td>8124</td>\n",
       "      <td>2</td>\n",
       "      <td>f</td>\n",
       "      <td>4748</td>\n",
       "    </tr>\n",
       "    <tr>\n",
       "      <th>odor</th>\n",
       "      <td>8124</td>\n",
       "      <td>9</td>\n",
       "      <td>n</td>\n",
       "      <td>3528</td>\n",
       "    </tr>\n",
       "    <tr>\n",
       "      <th>gill-attachment</th>\n",
       "      <td>8124</td>\n",
       "      <td>2</td>\n",
       "      <td>f</td>\n",
       "      <td>7914</td>\n",
       "    </tr>\n",
       "    <tr>\n",
       "      <th>gill-spacing</th>\n",
       "      <td>8124</td>\n",
       "      <td>2</td>\n",
       "      <td>c</td>\n",
       "      <td>6812</td>\n",
       "    </tr>\n",
       "    <tr>\n",
       "      <th>gill-size</th>\n",
       "      <td>8124</td>\n",
       "      <td>2</td>\n",
       "      <td>b</td>\n",
       "      <td>5612</td>\n",
       "    </tr>\n",
       "    <tr>\n",
       "      <th>gill-color</th>\n",
       "      <td>8124</td>\n",
       "      <td>12</td>\n",
       "      <td>b</td>\n",
       "      <td>1728</td>\n",
       "    </tr>\n",
       "    <tr>\n",
       "      <th>stalk-shape</th>\n",
       "      <td>8124</td>\n",
       "      <td>2</td>\n",
       "      <td>t</td>\n",
       "      <td>4608</td>\n",
       "    </tr>\n",
       "    <tr>\n",
       "      <th>stalk-root</th>\n",
       "      <td>8124</td>\n",
       "      <td>5</td>\n",
       "      <td>b</td>\n",
       "      <td>3776</td>\n",
       "    </tr>\n",
       "    <tr>\n",
       "      <th>stalk-surface-above-ring</th>\n",
       "      <td>8124</td>\n",
       "      <td>4</td>\n",
       "      <td>s</td>\n",
       "      <td>5176</td>\n",
       "    </tr>\n",
       "    <tr>\n",
       "      <th>stalk-surface-below-ring</th>\n",
       "      <td>8124</td>\n",
       "      <td>4</td>\n",
       "      <td>s</td>\n",
       "      <td>4936</td>\n",
       "    </tr>\n",
       "    <tr>\n",
       "      <th>stalk-color-above-ring</th>\n",
       "      <td>8124</td>\n",
       "      <td>9</td>\n",
       "      <td>w</td>\n",
       "      <td>4464</td>\n",
       "    </tr>\n",
       "    <tr>\n",
       "      <th>stalk-color-below-ring</th>\n",
       "      <td>8124</td>\n",
       "      <td>9</td>\n",
       "      <td>w</td>\n",
       "      <td>4384</td>\n",
       "    </tr>\n",
       "    <tr>\n",
       "      <th>veil-type</th>\n",
       "      <td>8124</td>\n",
       "      <td>1</td>\n",
       "      <td>p</td>\n",
       "      <td>8124</td>\n",
       "    </tr>\n",
       "    <tr>\n",
       "      <th>veil-color</th>\n",
       "      <td>8124</td>\n",
       "      <td>4</td>\n",
       "      <td>w</td>\n",
       "      <td>7924</td>\n",
       "    </tr>\n",
       "    <tr>\n",
       "      <th>ring-number</th>\n",
       "      <td>8124</td>\n",
       "      <td>3</td>\n",
       "      <td>o</td>\n",
       "      <td>7488</td>\n",
       "    </tr>\n",
       "    <tr>\n",
       "      <th>ring-type</th>\n",
       "      <td>8124</td>\n",
       "      <td>5</td>\n",
       "      <td>p</td>\n",
       "      <td>3968</td>\n",
       "    </tr>\n",
       "    <tr>\n",
       "      <th>spore-print-color</th>\n",
       "      <td>8124</td>\n",
       "      <td>9</td>\n",
       "      <td>w</td>\n",
       "      <td>2388</td>\n",
       "    </tr>\n",
       "    <tr>\n",
       "      <th>population</th>\n",
       "      <td>8124</td>\n",
       "      <td>6</td>\n",
       "      <td>v</td>\n",
       "      <td>4040</td>\n",
       "    </tr>\n",
       "    <tr>\n",
       "      <th>habitat</th>\n",
       "      <td>8124</td>\n",
       "      <td>7</td>\n",
       "      <td>d</td>\n",
       "      <td>3148</td>\n",
       "    </tr>\n",
       "  </tbody>\n",
       "</table>\n",
       "</div>"
      ],
      "text/plain": [
       "                         count unique top  freq\n",
       "class                     8124      2   e  4208\n",
       "cap-shape                 8124      6   x  3656\n",
       "cap-surface               8124      4   y  3244\n",
       "cap-color                 8124     10   n  2284\n",
       "bruises                   8124      2   f  4748\n",
       "odor                      8124      9   n  3528\n",
       "gill-attachment           8124      2   f  7914\n",
       "gill-spacing              8124      2   c  6812\n",
       "gill-size                 8124      2   b  5612\n",
       "gill-color                8124     12   b  1728\n",
       "stalk-shape               8124      2   t  4608\n",
       "stalk-root                8124      5   b  3776\n",
       "stalk-surface-above-ring  8124      4   s  5176\n",
       "stalk-surface-below-ring  8124      4   s  4936\n",
       "stalk-color-above-ring    8124      9   w  4464\n",
       "stalk-color-below-ring    8124      9   w  4384\n",
       "veil-type                 8124      1   p  8124\n",
       "veil-color                8124      4   w  7924\n",
       "ring-number               8124      3   o  7488\n",
       "ring-type                 8124      5   p  3968\n",
       "spore-print-color         8124      9   w  2388\n",
       "population                8124      6   v  4040\n",
       "habitat                   8124      7   d  3148"
      ]
     },
     "execution_count": 58,
     "metadata": {},
     "output_type": "execute_result"
    }
   ],
   "source": [
    "df.describe().transpose()"
   ]
  },
  {
   "cell_type": "markdown",
   "metadata": {},
   "source": [
    "#### Model 1"
   ]
  },
  {
   "cell_type": "code",
   "execution_count": 59,
   "metadata": {},
   "outputs": [
    {
     "data": {
      "text/html": [
       "<div>\n",
       "<style scoped>\n",
       "    .dataframe tbody tr th:only-of-type {\n",
       "        vertical-align: middle;\n",
       "    }\n",
       "\n",
       "    .dataframe tbody tr th {\n",
       "        vertical-align: top;\n",
       "    }\n",
       "\n",
       "    .dataframe thead th {\n",
       "        text-align: right;\n",
       "    }\n",
       "</style>\n",
       "<table border=\"1\" class=\"dataframe\">\n",
       "  <thead>\n",
       "    <tr style=\"text-align: right;\">\n",
       "      <th></th>\n",
       "      <th>class</th>\n",
       "      <th>cap-surface_f</th>\n",
       "      <th>cap-surface_g</th>\n",
       "      <th>cap-surface_s</th>\n",
       "      <th>cap-surface_y</th>\n",
       "      <th>cap-shape_b</th>\n",
       "      <th>cap-shape_c</th>\n",
       "      <th>cap-shape_f</th>\n",
       "      <th>cap-shape_k</th>\n",
       "      <th>cap-shape_s</th>\n",
       "      <th>cap-shape_x</th>\n",
       "    </tr>\n",
       "  </thead>\n",
       "  <tbody>\n",
       "    <tr>\n",
       "      <th>0</th>\n",
       "      <td>1</td>\n",
       "      <td>0</td>\n",
       "      <td>0</td>\n",
       "      <td>1</td>\n",
       "      <td>0</td>\n",
       "      <td>0</td>\n",
       "      <td>0</td>\n",
       "      <td>0</td>\n",
       "      <td>0</td>\n",
       "      <td>0</td>\n",
       "      <td>1</td>\n",
       "    </tr>\n",
       "    <tr>\n",
       "      <th>1</th>\n",
       "      <td>0</td>\n",
       "      <td>0</td>\n",
       "      <td>0</td>\n",
       "      <td>1</td>\n",
       "      <td>0</td>\n",
       "      <td>0</td>\n",
       "      <td>0</td>\n",
       "      <td>0</td>\n",
       "      <td>0</td>\n",
       "      <td>0</td>\n",
       "      <td>1</td>\n",
       "    </tr>\n",
       "    <tr>\n",
       "      <th>2</th>\n",
       "      <td>0</td>\n",
       "      <td>0</td>\n",
       "      <td>0</td>\n",
       "      <td>1</td>\n",
       "      <td>0</td>\n",
       "      <td>1</td>\n",
       "      <td>0</td>\n",
       "      <td>0</td>\n",
       "      <td>0</td>\n",
       "      <td>0</td>\n",
       "      <td>0</td>\n",
       "    </tr>\n",
       "    <tr>\n",
       "      <th>3</th>\n",
       "      <td>1</td>\n",
       "      <td>0</td>\n",
       "      <td>0</td>\n",
       "      <td>0</td>\n",
       "      <td>1</td>\n",
       "      <td>0</td>\n",
       "      <td>0</td>\n",
       "      <td>0</td>\n",
       "      <td>0</td>\n",
       "      <td>0</td>\n",
       "      <td>1</td>\n",
       "    </tr>\n",
       "    <tr>\n",
       "      <th>4</th>\n",
       "      <td>0</td>\n",
       "      <td>0</td>\n",
       "      <td>0</td>\n",
       "      <td>1</td>\n",
       "      <td>0</td>\n",
       "      <td>0</td>\n",
       "      <td>0</td>\n",
       "      <td>0</td>\n",
       "      <td>0</td>\n",
       "      <td>0</td>\n",
       "      <td>1</td>\n",
       "    </tr>\n",
       "  </tbody>\n",
       "</table>\n",
       "</div>"
      ],
      "text/plain": [
       "   class  cap-surface_f  cap-surface_g  cap-surface_s  cap-surface_y  \\\n",
       "0      1              0              0              1              0   \n",
       "1      0              0              0              1              0   \n",
       "2      0              0              0              1              0   \n",
       "3      1              0              0              0              1   \n",
       "4      0              0              0              1              0   \n",
       "\n",
       "   cap-shape_b  cap-shape_c  cap-shape_f  cap-shape_k  cap-shape_s  \\\n",
       "0            0            0            0            0            0   \n",
       "1            0            0            0            0            0   \n",
       "2            1            0            0            0            0   \n",
       "3            0            0            0            0            0   \n",
       "4            0            0            0            0            0   \n",
       "\n",
       "   cap-shape_x  \n",
       "0            1  \n",
       "1            1  \n",
       "2            0  \n",
       "3            1  \n",
       "4            1  "
      ]
     },
     "execution_count": 59,
     "metadata": {},
     "output_type": "execute_result"
    }
   ],
   "source": [
    "mushrooms = df[['class', 'cap-surface', 'cap-shape']].copy()\n",
    "mushrooms['class'] = [1 if i == 'p' else 0 for i in mushrooms['class']]\n",
    "mushrooms = pd.get_dummies(mushrooms)\n",
    "mushrooms.head()"
   ]
  },
  {
   "cell_type": "code",
   "execution_count": 60,
   "metadata": {},
   "outputs": [
    {
     "data": {
      "text/plain": [
       "Index(['class', 'cap-surface_f', 'cap-surface_g', 'cap-surface_s',\n",
       "       'cap-surface_y', 'cap-shape_b', 'cap-shape_c', 'cap-shape_f',\n",
       "       'cap-shape_k', 'cap-shape_s', 'cap-shape_x'],\n",
       "      dtype='object')"
      ]
     },
     "execution_count": 60,
     "metadata": {},
     "output_type": "execute_result"
    }
   ],
   "source": [
    "mushrooms.columns"
   ]
  },
  {
   "cell_type": "code",
   "execution_count": 61,
   "metadata": {},
   "outputs": [],
   "source": [
    "X = mushrooms[['cap-surface_f', 'cap-surface_g','cap-shape_c', 'cap-shape_f', 'cap-shape_k', 'cap-shape_s']].copy()\n",
    "y = mushrooms['class'].copy()"
   ]
  },
  {
   "cell_type": "code",
   "execution_count": 62,
   "metadata": {},
   "outputs": [],
   "source": [
    "from sklearn.model_selection import train_test_split\n",
    "X_train, X_test, y_train, y_test = train_test_split(X, y, test_size = 0.2, \\\n",
    "        random_state = 0)"
   ]
  },
  {
   "cell_type": "code",
   "execution_count": 63,
   "metadata": {},
   "outputs": [
    {
     "data": {
      "text/plain": [
       "6"
      ]
     },
     "execution_count": 63,
     "metadata": {},
     "output_type": "execute_result"
    }
   ],
   "source": [
    "X_train.shape[1]"
   ]
  },
  {
   "cell_type": "code",
   "execution_count": 64,
   "metadata": {},
   "outputs": [],
   "source": [
    "import keras\n",
    "from keras.models import Sequential\n",
    "from keras.layers import Dense, Dropout\n",
    "from keras.layers.normalization import BatchNormalization"
   ]
  },
  {
   "cell_type": "code",
   "execution_count": 65,
   "metadata": {},
   "outputs": [
    {
     "name": "stdout",
     "output_type": "stream",
     "text": [
      "_________________________________________________________________\n",
      "Layer (type)                 Output Shape              Param #   \n",
      "=================================================================\n",
      "first_hidden (Dense)         (None, 12)                84        \n",
      "_________________________________________________________________\n",
      "dropout_7 (Dropout)          (None, 12)                0         \n",
      "_________________________________________________________________\n",
      "batch_normalization_11 (Batc (None, 12)                48        \n",
      "_________________________________________________________________\n",
      "second_hidden (Dense)        (None, 10)                130       \n",
      "_________________________________________________________________\n",
      "batch_normalization_12 (Batc (None, 10)                40        \n",
      "_________________________________________________________________\n",
      "third_hidden (Dense)         (None, 10)                110       \n",
      "_________________________________________________________________\n",
      "batch_normalization_13 (Batc (None, 10)                40        \n",
      "_________________________________________________________________\n",
      "dropout_8 (Dropout)          (None, 10)                0         \n",
      "_________________________________________________________________\n",
      "output (Dense)               (None, 1)                 11        \n",
      "=================================================================\n",
      "Total params: 463\n",
      "Trainable params: 399\n",
      "Non-trainable params: 64\n",
      "_________________________________________________________________\n"
     ]
    }
   ],
   "source": [
    "model = Sequential() #1\n",
    "\n",
    "# NOTE: Use the number from the above shape command in the following statement\n",
    "# input_dim refers to number of nodes in the input layer.  Number after Dense \n",
    "# refers to number of neurons/nodes in the hidden layer\n",
    "# input and hidden layer #1.  Use relu, which is common for hidden layers\n",
    "model.add(Dense(12, activation='relu', input_dim=6, name='first_hidden')) \n",
    "model.add(Dropout(0.2))\n",
    "\n",
    "# Re-centers the results to insure they dont drift\n",
    "model.add(BatchNormalization())\n",
    "\n",
    "# second hidden layer.  Use relu\n",
    "model.add(Dense(10, activation = 'relu', name='second_hidden'))\n",
    "\n",
    "# Re-centers the results to insure they dont drift\n",
    "model.add(BatchNormalization())\n",
    "\n",
    "# third hidden layer.  Use relu\n",
    "model.add(Dense(10, activation = 'relu', name='third_hidden'))\n",
    "\n",
    "# Re-centers the results to insure they dont drift\n",
    "model.add(BatchNormalization())\n",
    "\n",
    "model.add(Dropout(0.2))\n",
    "\n",
    "# output layer: use sigmoid since outputting a probability. Only one node\n",
    "model.add(Dense(1, activation='sigmoid', name='output'))\n",
    "model.summary()"
   ]
  },
  {
   "cell_type": "code",
   "execution_count": 66,
   "metadata": {},
   "outputs": [],
   "source": [
    "# Compile the model....check for errors\n",
    "model.compile(loss='binary_crossentropy', optimizer='adam', \\\n",
    "              metrics=['accuracy', 'mean_squared_error'])"
   ]
  },
  {
   "cell_type": "code",
   "execution_count": 67,
   "metadata": {},
   "outputs": [
    {
     "name": "stdout",
     "output_type": "stream",
     "text": [
      "Epoch 1/25\n",
      " - 4s - loss: 0.7359 - acc: 0.5402 - mean_squared_error: 0.2645\n",
      "Epoch 2/25\n",
      " - 2s - loss: 0.6966 - acc: 0.5536 - mean_squared_error: 0.2502\n",
      "Epoch 3/25\n",
      " - 2s - loss: 0.6871 - acc: 0.5641 - mean_squared_error: 0.2464\n",
      "Epoch 4/25\n",
      " - 2s - loss: 0.6756 - acc: 0.5696 - mean_squared_error: 0.2411\n",
      "Epoch 5/25\n",
      " - 2s - loss: 0.6752 - acc: 0.5741 - mean_squared_error: 0.2411\n",
      "Epoch 6/25\n",
      " - 2s - loss: 0.6708 - acc: 0.5849 - mean_squared_error: 0.2389\n",
      "Epoch 7/25\n",
      " - 2s - loss: 0.6698 - acc: 0.5826 - mean_squared_error: 0.2385\n",
      "Epoch 8/25\n",
      " - 2s - loss: 0.6718 - acc: 0.5841 - mean_squared_error: 0.2395\n",
      "Epoch 9/25\n",
      " - 2s - loss: 0.6696 - acc: 0.5813 - mean_squared_error: 0.2385\n",
      "Epoch 10/25\n",
      " - 2s - loss: 0.6680 - acc: 0.5921 - mean_squared_error: 0.2377\n",
      "Epoch 11/25\n",
      " - 2s - loss: 0.6659 - acc: 0.5875 - mean_squared_error: 0.2367\n",
      "Epoch 12/25\n",
      " - 2s - loss: 0.6697 - acc: 0.5864 - mean_squared_error: 0.2385\n",
      "Epoch 13/25\n",
      " - 2s - loss: 0.6643 - acc: 0.5944 - mean_squared_error: 0.2359\n",
      "Epoch 14/25\n",
      " - 2s - loss: 0.6688 - acc: 0.5929 - mean_squared_error: 0.2380\n",
      "Epoch 15/25\n",
      " - 3s - loss: 0.6682 - acc: 0.5967 - mean_squared_error: 0.2376\n",
      "Epoch 16/25\n",
      " - 2s - loss: 0.6664 - acc: 0.5967 - mean_squared_error: 0.2369\n",
      "Epoch 17/25\n",
      " - 2s - loss: 0.6630 - acc: 0.5906 - mean_squared_error: 0.2354\n",
      "Epoch 18/25\n",
      " - 2s - loss: 0.6669 - acc: 0.5938 - mean_squared_error: 0.2371\n",
      "Epoch 19/25\n",
      " - 2s - loss: 0.6654 - acc: 0.5970 - mean_squared_error: 0.2364\n",
      "Epoch 20/25\n",
      " - 2s - loss: 0.6655 - acc: 0.5936 - mean_squared_error: 0.2365\n",
      "Epoch 21/25\n",
      " - 2s - loss: 0.6664 - acc: 0.5909 - mean_squared_error: 0.2369\n",
      "Epoch 22/25\n",
      " - 2s - loss: 0.6659 - acc: 0.5927 - mean_squared_error: 0.2366\n",
      "Epoch 23/25\n",
      " - 2s - loss: 0.6653 - acc: 0.5947 - mean_squared_error: 0.2364\n",
      "Epoch 24/25\n",
      " - 2s - loss: 0.6624 - acc: 0.5936 - mean_squared_error: 0.2351\n",
      "Epoch 25/25\n",
      " - 2s - loss: 0.6638 - acc: 0.5999 - mean_squared_error: 0.2358\n"
     ]
    },
    {
     "data": {
      "text/plain": [
       "<keras.callbacks.History at 0x7fbb268cc7b8>"
      ]
     },
     "execution_count": 67,
     "metadata": {},
     "output_type": "execute_result"
    }
   ],
   "source": [
    "model.fit(X_train, y_train, batch_size = 10, epochs = 25, verbose=2)"
   ]
  },
  {
   "cell_type": "code",
   "execution_count": 68,
   "metadata": {},
   "outputs": [
    {
     "data": {
      "text/plain": [
       "array([[2474,  882],\n",
       "       [1667, 1476]])"
      ]
     },
     "execution_count": 68,
     "metadata": {},
     "output_type": "execute_result"
    }
   ],
   "source": [
    "pred_classes = model.predict_classes(X_train)\n",
    "from sklearn.metrics import confusion_matrix\n",
    "confusion_matrix(y_train,pred_classes)"
   ]
  },
  {
   "cell_type": "code",
   "execution_count": 69,
   "metadata": {},
   "outputs": [
    {
     "name": "stdout",
     "output_type": "stream",
     "text": [
      "[[0.7414007 ]\n",
      " [0.3409124 ]\n",
      " [0.452333  ]\n",
      " ...\n",
      " [0.452333  ]\n",
      " [0.33785862]\n",
      " [0.452333  ]]\n"
     ]
    }
   ],
   "source": [
    "print(model.predict(X_train))"
   ]
  },
  {
   "cell_type": "code",
   "execution_count": 70,
   "metadata": {},
   "outputs": [
    {
     "name": "stdout",
     "output_type": "stream",
     "text": [
      "6499/6499 [==============================] - 1s 84us/step\n",
      "The model loss is 0.66, its accuracy is 0.61, and mse is 0.23. \n"
     ]
    }
   ],
   "source": [
    "loss, accuracy, mse = model.evaluate(X_train,y_train)\n",
    "print(\"The model loss is {:.2f}, its accuracy is {:.2f}, and mse is {:.2f}. \".format(\\\n",
    "            loss,accuracy, mse))"
   ]
  },
  {
   "cell_type": "code",
   "execution_count": 71,
   "metadata": {},
   "outputs": [
    {
     "name": "stdout",
     "output_type": "stream",
     "text": [
      "             precision    recall  f1-score   support\n",
      "\n",
      "     edible       0.60      0.74      0.66      3356\n",
      "  poisonous       0.63      0.47      0.54      3143\n",
      "\n",
      "avg / total       0.61      0.61      0.60      6499\n",
      "\n"
     ]
    }
   ],
   "source": [
    "from sklearn.metrics import classification_report\n",
    "target_names=['edible','poisonous'] # b/c 0=edible, 1=poisonous\n",
    "print(classification_report(y_train, pred_classes, target_names=target_names))"
   ]
  },
  {
   "cell_type": "code",
   "execution_count": 72,
   "metadata": {},
   "outputs": [
    {
     "data": {
      "text/plain": [
       "array([[654, 198],\n",
       "       [420, 353]])"
      ]
     },
     "execution_count": 72,
     "metadata": {},
     "output_type": "execute_result"
    }
   ],
   "source": [
    "pred_classes = model.predict_classes(X_test)\n",
    "from sklearn.metrics import confusion_matrix\n",
    "confusion_matrix(y_test,pred_classes)"
   ]
  },
  {
   "cell_type": "markdown",
   "metadata": {},
   "source": [
    "* 852 mushrooms that are edible\n",
    "* 773 mushrooms that are poisonous\n",
    "* when the model predicts mushrooms are edible, it is accurate 654/1074 or 61% of the time\n",
    "* when the model predicts mushrooms are poisonous, it is accurate 198/551 or 36% of the time\n",
    "* When the mushroom is actually edible, it is accurate 654/852 or 77% of the time.\n",
    "* When the mushroom is actually poisonous, it is accurate (1-(420/773))*100 or 46% of the time."
   ]
  },
  {
   "cell_type": "code",
   "execution_count": 73,
   "metadata": {},
   "outputs": [
    {
     "name": "stdout",
     "output_type": "stream",
     "text": [
      "1625/1625 [==============================] - 0s 31us/step\n",
      "The model loss is 0.65 and its accuracy is 0.62., and mse is 0.23. \n"
     ]
    }
   ],
   "source": [
    "loss, accuracy, mse = model.evaluate(X_test,y_test)\n",
    "print(\"The model loss is {:.2f} and its accuracy is {:.2f}., and mse is {:.2f}. \".format(loss, accuracy, mse))"
   ]
  },
  {
   "cell_type": "code",
   "execution_count": 74,
   "metadata": {},
   "outputs": [
    {
     "name": "stdout",
     "output_type": "stream",
     "text": [
      "             precision    recall  f1-score   support\n",
      "\n",
      "     edible       0.61      0.77      0.68       852\n",
      "  poisonous       0.64      0.46      0.53       773\n",
      "\n",
      "avg / total       0.62      0.62      0.61      1625\n",
      "\n"
     ]
    }
   ],
   "source": [
    "from sklearn.metrics import classification_report\n",
    "target_names=['edible','poisonous'] # b/c 0=edible, 1=poisonous\n",
    "print(classification_report(y_test, pred_classes, target_names=target_names))"
   ]
  },
  {
   "cell_type": "code",
   "execution_count": 75,
   "metadata": {},
   "outputs": [
    {
     "name": "stdout",
     "output_type": "stream",
     "text": [
      "[[0.452333 ]\n",
      " [0.5403097]\n",
      " [0.452333 ]\n",
      " ...\n",
      " [0.5403097]\n",
      " [0.452333 ]\n",
      " [0.452333 ]]\n"
     ]
    }
   ],
   "source": [
    "print(model.predict(X_test))"
   ]
  },
  {
   "cell_type": "markdown",
   "metadata": {},
   "source": [
    "Based on this model, mushrooms with cap surfaces that are fibrous or with grooves as well as cap shapes that are conical, flat, knobbed, or sunken are more likely to be edible."
   ]
  },
  {
   "cell_type": "markdown",
   "metadata": {},
   "source": [
    "#### Model 2"
   ]
  },
  {
   "cell_type": "code",
   "execution_count": 76,
   "metadata": {},
   "outputs": [
    {
     "data": {
      "text/html": [
       "<div>\n",
       "<style scoped>\n",
       "    .dataframe tbody tr th:only-of-type {\n",
       "        vertical-align: middle;\n",
       "    }\n",
       "\n",
       "    .dataframe tbody tr th {\n",
       "        vertical-align: top;\n",
       "    }\n",
       "\n",
       "    .dataframe thead th {\n",
       "        text-align: right;\n",
       "    }\n",
       "</style>\n",
       "<table border=\"1\" class=\"dataframe\">\n",
       "  <thead>\n",
       "    <tr style=\"text-align: right;\">\n",
       "      <th></th>\n",
       "      <th>class</th>\n",
       "      <th>cap-surface_f</th>\n",
       "      <th>cap-surface_g</th>\n",
       "      <th>cap-surface_s</th>\n",
       "      <th>cap-surface_y</th>\n",
       "      <th>cap-shape_b</th>\n",
       "      <th>cap-shape_c</th>\n",
       "      <th>cap-shape_f</th>\n",
       "      <th>cap-shape_k</th>\n",
       "      <th>cap-shape_s</th>\n",
       "      <th>...</th>\n",
       "      <th>odor_p</th>\n",
       "      <th>odor_s</th>\n",
       "      <th>odor_y</th>\n",
       "      <th>habitat_d</th>\n",
       "      <th>habitat_g</th>\n",
       "      <th>habitat_l</th>\n",
       "      <th>habitat_m</th>\n",
       "      <th>habitat_p</th>\n",
       "      <th>habitat_u</th>\n",
       "      <th>habitat_w</th>\n",
       "    </tr>\n",
       "  </thead>\n",
       "  <tbody>\n",
       "    <tr>\n",
       "      <th>0</th>\n",
       "      <td>1</td>\n",
       "      <td>0</td>\n",
       "      <td>0</td>\n",
       "      <td>1</td>\n",
       "      <td>0</td>\n",
       "      <td>0</td>\n",
       "      <td>0</td>\n",
       "      <td>0</td>\n",
       "      <td>0</td>\n",
       "      <td>0</td>\n",
       "      <td>...</td>\n",
       "      <td>1</td>\n",
       "      <td>0</td>\n",
       "      <td>0</td>\n",
       "      <td>0</td>\n",
       "      <td>0</td>\n",
       "      <td>0</td>\n",
       "      <td>0</td>\n",
       "      <td>0</td>\n",
       "      <td>1</td>\n",
       "      <td>0</td>\n",
       "    </tr>\n",
       "    <tr>\n",
       "      <th>1</th>\n",
       "      <td>0</td>\n",
       "      <td>0</td>\n",
       "      <td>0</td>\n",
       "      <td>1</td>\n",
       "      <td>0</td>\n",
       "      <td>0</td>\n",
       "      <td>0</td>\n",
       "      <td>0</td>\n",
       "      <td>0</td>\n",
       "      <td>0</td>\n",
       "      <td>...</td>\n",
       "      <td>0</td>\n",
       "      <td>0</td>\n",
       "      <td>0</td>\n",
       "      <td>0</td>\n",
       "      <td>1</td>\n",
       "      <td>0</td>\n",
       "      <td>0</td>\n",
       "      <td>0</td>\n",
       "      <td>0</td>\n",
       "      <td>0</td>\n",
       "    </tr>\n",
       "    <tr>\n",
       "      <th>2</th>\n",
       "      <td>0</td>\n",
       "      <td>0</td>\n",
       "      <td>0</td>\n",
       "      <td>1</td>\n",
       "      <td>0</td>\n",
       "      <td>1</td>\n",
       "      <td>0</td>\n",
       "      <td>0</td>\n",
       "      <td>0</td>\n",
       "      <td>0</td>\n",
       "      <td>...</td>\n",
       "      <td>0</td>\n",
       "      <td>0</td>\n",
       "      <td>0</td>\n",
       "      <td>0</td>\n",
       "      <td>0</td>\n",
       "      <td>0</td>\n",
       "      <td>1</td>\n",
       "      <td>0</td>\n",
       "      <td>0</td>\n",
       "      <td>0</td>\n",
       "    </tr>\n",
       "    <tr>\n",
       "      <th>3</th>\n",
       "      <td>1</td>\n",
       "      <td>0</td>\n",
       "      <td>0</td>\n",
       "      <td>0</td>\n",
       "      <td>1</td>\n",
       "      <td>0</td>\n",
       "      <td>0</td>\n",
       "      <td>0</td>\n",
       "      <td>0</td>\n",
       "      <td>0</td>\n",
       "      <td>...</td>\n",
       "      <td>1</td>\n",
       "      <td>0</td>\n",
       "      <td>0</td>\n",
       "      <td>0</td>\n",
       "      <td>0</td>\n",
       "      <td>0</td>\n",
       "      <td>0</td>\n",
       "      <td>0</td>\n",
       "      <td>1</td>\n",
       "      <td>0</td>\n",
       "    </tr>\n",
       "    <tr>\n",
       "      <th>4</th>\n",
       "      <td>0</td>\n",
       "      <td>0</td>\n",
       "      <td>0</td>\n",
       "      <td>1</td>\n",
       "      <td>0</td>\n",
       "      <td>0</td>\n",
       "      <td>0</td>\n",
       "      <td>0</td>\n",
       "      <td>0</td>\n",
       "      <td>0</td>\n",
       "      <td>...</td>\n",
       "      <td>0</td>\n",
       "      <td>0</td>\n",
       "      <td>0</td>\n",
       "      <td>0</td>\n",
       "      <td>1</td>\n",
       "      <td>0</td>\n",
       "      <td>0</td>\n",
       "      <td>0</td>\n",
       "      <td>0</td>\n",
       "      <td>0</td>\n",
       "    </tr>\n",
       "  </tbody>\n",
       "</table>\n",
       "<p>5 rows × 27 columns</p>\n",
       "</div>"
      ],
      "text/plain": [
       "   class  cap-surface_f  cap-surface_g  cap-surface_s  cap-surface_y  \\\n",
       "0      1              0              0              1              0   \n",
       "1      0              0              0              1              0   \n",
       "2      0              0              0              1              0   \n",
       "3      1              0              0              0              1   \n",
       "4      0              0              0              1              0   \n",
       "\n",
       "   cap-shape_b  cap-shape_c  cap-shape_f  cap-shape_k  cap-shape_s    ...      \\\n",
       "0            0            0            0            0            0    ...       \n",
       "1            0            0            0            0            0    ...       \n",
       "2            1            0            0            0            0    ...       \n",
       "3            0            0            0            0            0    ...       \n",
       "4            0            0            0            0            0    ...       \n",
       "\n",
       "   odor_p  odor_s  odor_y  habitat_d  habitat_g  habitat_l  habitat_m  \\\n",
       "0       1       0       0          0          0          0          0   \n",
       "1       0       0       0          0          1          0          0   \n",
       "2       0       0       0          0          0          0          1   \n",
       "3       1       0       0          0          0          0          0   \n",
       "4       0       0       0          0          1          0          0   \n",
       "\n",
       "   habitat_p  habitat_u  habitat_w  \n",
       "0          0          1          0  \n",
       "1          0          0          0  \n",
       "2          0          0          0  \n",
       "3          0          1          0  \n",
       "4          0          0          0  \n",
       "\n",
       "[5 rows x 27 columns]"
      ]
     },
     "execution_count": 76,
     "metadata": {},
     "output_type": "execute_result"
    }
   ],
   "source": [
    "mushrooms2 = df[['class', 'cap-surface', 'cap-shape', 'odor', 'habitat']].copy()\n",
    "mushrooms2['class'] = [1 if i == 'p' else 0 for i in mushrooms2['class']]\n",
    "mushrooms2 = pd.get_dummies(mushrooms2)\n",
    "mushrooms2.head()"
   ]
  },
  {
   "cell_type": "code",
   "execution_count": 77,
   "metadata": {},
   "outputs": [
    {
     "data": {
      "text/plain": [
       "Index(['class', 'cap-surface_f', 'cap-surface_g', 'cap-surface_s',\n",
       "       'cap-surface_y', 'cap-shape_b', 'cap-shape_c', 'cap-shape_f',\n",
       "       'cap-shape_k', 'cap-shape_s', 'cap-shape_x', 'odor_a', 'odor_c',\n",
       "       'odor_f', 'odor_l', 'odor_m', 'odor_n', 'odor_p', 'odor_s', 'odor_y',\n",
       "       'habitat_d', 'habitat_g', 'habitat_l', 'habitat_m', 'habitat_p',\n",
       "       'habitat_u', 'habitat_w'],\n",
       "      dtype='object')"
      ]
     },
     "execution_count": 77,
     "metadata": {},
     "output_type": "execute_result"
    }
   ],
   "source": [
    "mushrooms2.columns"
   ]
  },
  {
   "cell_type": "code",
   "execution_count": 78,
   "metadata": {},
   "outputs": [],
   "source": [
    "X2 = mushrooms2[['cap-surface_f', 'cap-surface_g','cap-shape_c', 'cap-shape_f', 'cap-shape_k', 'cap-shape_s', 'odor_a', 'odor_c',\n",
    "       'odor_f', 'odor_l', 'odor_m', 'odor_n',\n",
    "       'habitat_d', 'habitat_g', 'habitat_l']].copy()\n",
    "y2 = mushrooms2['class'].copy()"
   ]
  },
  {
   "cell_type": "code",
   "execution_count": 79,
   "metadata": {},
   "outputs": [],
   "source": [
    "from sklearn.model_selection import train_test_split\n",
    "X_train2, X_test2, y_train2, y_test2 = train_test_split(X2, y2, test_size = 0.2, \\\n",
    "        random_state = 0)"
   ]
  },
  {
   "cell_type": "code",
   "execution_count": 80,
   "metadata": {},
   "outputs": [
    {
     "data": {
      "text/plain": [
       "15"
      ]
     },
     "execution_count": 80,
     "metadata": {},
     "output_type": "execute_result"
    }
   ],
   "source": [
    "X_train2.shape[1]"
   ]
  },
  {
   "cell_type": "code",
   "execution_count": 81,
   "metadata": {},
   "outputs": [
    {
     "name": "stdout",
     "output_type": "stream",
     "text": [
      "_________________________________________________________________\n",
      "Layer (type)                 Output Shape              Param #   \n",
      "=================================================================\n",
      "first_hidden (Dense)         (None, 12)                192       \n",
      "_________________________________________________________________\n",
      "dropout_9 (Dropout)          (None, 12)                0         \n",
      "_________________________________________________________________\n",
      "batch_normalization_14 (Batc (None, 12)                48        \n",
      "_________________________________________________________________\n",
      "second_hidden (Dense)        (None, 10)                130       \n",
      "_________________________________________________________________\n",
      "batch_normalization_15 (Batc (None, 10)                40        \n",
      "_________________________________________________________________\n",
      "third_hidden (Dense)         (None, 10)                110       \n",
      "_________________________________________________________________\n",
      "batch_normalization_16 (Batc (None, 10)                40        \n",
      "_________________________________________________________________\n",
      "dropout_10 (Dropout)         (None, 10)                0         \n",
      "_________________________________________________________________\n",
      "output (Dense)               (None, 1)                 11        \n",
      "=================================================================\n",
      "Total params: 571\n",
      "Trainable params: 507\n",
      "Non-trainable params: 64\n",
      "_________________________________________________________________\n"
     ]
    }
   ],
   "source": [
    "model2 = Sequential() #1\n",
    "\n",
    "# NOTE: Use the number from the above shape command in the following statement\n",
    "# input_dim refers to number of nodes in the input layer.  Number after Dense \n",
    "# refers to number of neurons/nodes in the hidden layer\n",
    "# input and hidden layer #1.  Use relu, which is common for hidden layers\n",
    "model2.add(Dense(12, activation='relu', input_dim=15, name='first_hidden')) \n",
    "model2.add(Dropout(0.2))\n",
    "\n",
    "# Re-centers the results to insure they dont drift\n",
    "model2.add(BatchNormalization())\n",
    "\n",
    "# second hidden layer.  Use relu\n",
    "model2.add(Dense(10, activation = 'relu', name='second_hidden'))\n",
    "\n",
    "# Re-centers the results to insure they dont drift\n",
    "model2.add(BatchNormalization())\n",
    "\n",
    "# third hidden layer.  Use relu\n",
    "model2.add(Dense(10, activation = 'relu', name='third_hidden'))\n",
    "\n",
    "# Re-centers the results to insure they dont drift\n",
    "model2.add(BatchNormalization())\n",
    "\n",
    "model2.add(Dropout(0.2))\n",
    "\n",
    "# output layer: use sigmoid since outputting a probability. Only one node\n",
    "model2.add(Dense(1, activation='sigmoid', name='output'))\n",
    "model2.summary()"
   ]
  },
  {
   "cell_type": "code",
   "execution_count": 82,
   "metadata": {},
   "outputs": [],
   "source": [
    "model2.compile(loss='binary_crossentropy', optimizer='adam', \\\n",
    "              metrics=['accuracy', 'mean_squared_error'])"
   ]
  },
  {
   "cell_type": "code",
   "execution_count": 83,
   "metadata": {},
   "outputs": [
    {
     "name": "stdout",
     "output_type": "stream",
     "text": [
      "Epoch 1/25\n",
      " - 4s - loss: 0.4281 - acc: 0.8137 - mean_squared_error: 0.1360\n",
      "Epoch 2/25\n",
      " - 2s - loss: 0.2006 - acc: 0.9345 - mean_squared_error: 0.0538\n",
      "Epoch 3/25\n",
      " - 2s - loss: 0.1573 - acc: 0.9543 - mean_squared_error: 0.0383\n",
      "Epoch 4/25\n",
      " - 2s - loss: 0.1355 - acc: 0.9660 - mean_squared_error: 0.0316\n",
      "Epoch 5/25\n",
      " - 2s - loss: 0.1409 - acc: 0.9655 - mean_squared_error: 0.0319\n",
      "Epoch 6/25\n",
      " - 2s - loss: 0.1318 - acc: 0.9701 - mean_squared_error: 0.0278\n",
      "Epoch 7/25\n",
      " - 2s - loss: 0.1113 - acc: 0.9766 - mean_squared_error: 0.0233\n",
      "Epoch 8/25\n",
      " - 2s - loss: 0.1097 - acc: 0.9771 - mean_squared_error: 0.0226\n",
      "Epoch 9/25\n",
      " - 2s - loss: 0.1158 - acc: 0.9752 - mean_squared_error: 0.0242\n",
      "Epoch 10/25\n",
      " - 2s - loss: 0.1134 - acc: 0.9754 - mean_squared_error: 0.0244\n",
      "Epoch 11/25\n",
      " - 2s - loss: 0.1147 - acc: 0.9760 - mean_squared_error: 0.0234\n",
      "Epoch 12/25\n",
      " - 2s - loss: 0.1172 - acc: 0.9734 - mean_squared_error: 0.0249\n",
      "Epoch 13/25\n",
      " - 2s - loss: 0.0986 - acc: 0.9785 - mean_squared_error: 0.0210\n",
      "Epoch 14/25\n",
      " - 2s - loss: 0.1050 - acc: 0.9775 - mean_squared_error: 0.0216\n",
      "Epoch 15/25\n",
      " - 2s - loss: 0.0997 - acc: 0.9782 - mean_squared_error: 0.0210\n",
      "Epoch 16/25\n",
      " - 2s - loss: 0.1051 - acc: 0.9800 - mean_squared_error: 0.0209\n",
      "Epoch 17/25\n",
      " - 2s - loss: 0.0981 - acc: 0.9797 - mean_squared_error: 0.0201\n",
      "Epoch 18/25\n",
      " - 2s - loss: 0.0967 - acc: 0.9806 - mean_squared_error: 0.0194\n",
      "Epoch 19/25\n",
      " - 2s - loss: 0.1051 - acc: 0.9789 - mean_squared_error: 0.0213\n",
      "Epoch 20/25\n",
      " - 2s - loss: 0.1022 - acc: 0.9806 - mean_squared_error: 0.0201\n",
      "Epoch 21/25\n",
      " - 2s - loss: 0.0885 - acc: 0.9806 - mean_squared_error: 0.0185\n",
      "Epoch 22/25\n",
      " - 2s - loss: 0.0886 - acc: 0.9798 - mean_squared_error: 0.0189\n",
      "Epoch 23/25\n",
      " - 2s - loss: 0.0939 - acc: 0.9812 - mean_squared_error: 0.0188\n",
      "Epoch 24/25\n",
      " - 2s - loss: 0.0926 - acc: 0.9812 - mean_squared_error: 0.0187\n",
      "Epoch 25/25\n",
      " - 2s - loss: 0.0995 - acc: 0.9785 - mean_squared_error: 0.0206\n"
     ]
    },
    {
     "data": {
      "text/plain": [
       "<keras.callbacks.History at 0x7fbb26893b70>"
      ]
     },
     "execution_count": 83,
     "metadata": {},
     "output_type": "execute_result"
    }
   ],
   "source": [
    "model2.fit(X_train2, y_train2, batch_size = 10, epochs = 25, verbose=2)"
   ]
  },
  {
   "cell_type": "code",
   "execution_count": 84,
   "metadata": {},
   "outputs": [
    {
     "data": {
      "text/plain": [
       "array([[3356,    0],\n",
       "       [  95, 3048]])"
      ]
     },
     "execution_count": 84,
     "metadata": {},
     "output_type": "execute_result"
    }
   ],
   "source": [
    "pred_classes = model2.predict_classes(X_train2)\n",
    "from sklearn.metrics import confusion_matrix\n",
    "confusion_matrix(y_train2,pred_classes)"
   ]
  },
  {
   "cell_type": "code",
   "execution_count": 85,
   "metadata": {},
   "outputs": [
    {
     "name": "stdout",
     "output_type": "stream",
     "text": [
      "[[0.03517738]\n",
      " [0.00890152]\n",
      " [0.00584063]\n",
      " ...\n",
      " [0.07024593]\n",
      " [0.03224472]\n",
      " [0.04279618]]\n"
     ]
    }
   ],
   "source": [
    "print(model2.predict(X_train2))"
   ]
  },
  {
   "cell_type": "code",
   "execution_count": 86,
   "metadata": {},
   "outputs": [
    {
     "name": "stdout",
     "output_type": "stream",
     "text": [
      "6499/6499 [==============================] - 1s 89us/step\n",
      "The model loss is 0.06, its accuracy is 0.99, and mse is 0.01. \n"
     ]
    }
   ],
   "source": [
    "loss, accuracy, mse = model2.evaluate(X_train2,y_train2)\n",
    "print(\"The model loss is {:.2f}, its accuracy is {:.2f}, and mse is {:.2f}. \".format(\\\n",
    "            loss,accuracy, mse))"
   ]
  },
  {
   "cell_type": "code",
   "execution_count": 87,
   "metadata": {},
   "outputs": [
    {
     "name": "stdout",
     "output_type": "stream",
     "text": [
      "             precision    recall  f1-score   support\n",
      "\n",
      "     edible       0.97      1.00      0.99      3356\n",
      "  poisonous       1.00      0.97      0.98      3143\n",
      "\n",
      "avg / total       0.99      0.99      0.99      6499\n",
      "\n"
     ]
    }
   ],
   "source": [
    "from sklearn.metrics import classification_report\n",
    "target_names=['edible','poisonous'] # b/c 0=edible, 1=poisonous\n",
    "print(classification_report(y_train2, pred_classes, target_names=target_names))"
   ]
  },
  {
   "cell_type": "code",
   "execution_count": 88,
   "metadata": {},
   "outputs": [
    {
     "data": {
      "text/plain": [
       "array([[852,   0],\n",
       "       [ 18, 755]])"
      ]
     },
     "execution_count": 88,
     "metadata": {},
     "output_type": "execute_result"
    }
   ],
   "source": [
    "pred_classes = model2.predict_classes(X_test2)\n",
    "from sklearn.metrics import confusion_matrix\n",
    "confusion_matrix(y_test2,pred_classes)"
   ]
  },
  {
   "cell_type": "markdown",
   "metadata": {},
   "source": [
    "* 852 mushrooms that are edible\n",
    "* 773 mushrooms that are poisonous\n",
    "* when the model predicts mushrooms are edible, it is accurate 852/870 or 98% of the time\n",
    "* when the model predicts mushrooms are poisonous, it is accurate 0/755 or 0% of the time.\n",
    "* When the mushroom is actually edible, it is accurate 852/852 or 100% of the time.\n",
    "* When the mushroom is actually poisonous, it is accurate (1-(18/773))*100 or 98% of the time."
   ]
  },
  {
   "cell_type": "code",
   "execution_count": 89,
   "metadata": {},
   "outputs": [
    {
     "name": "stdout",
     "output_type": "stream",
     "text": [
      "1625/1625 [==============================] - 0s 30us/step\n",
      "The model loss is 0.05 and its accuracy is 0.99., and mse is 0.01. \n"
     ]
    }
   ],
   "source": [
    "loss, accuracy, mse = model2.evaluate(X_test2,y_test2)\n",
    "print(\"The model loss is {:.2f} and its accuracy is {:.2f}., and mse is {:.2f}. \".format(loss, accuracy, mse))"
   ]
  },
  {
   "cell_type": "code",
   "execution_count": 90,
   "metadata": {},
   "outputs": [
    {
     "name": "stdout",
     "output_type": "stream",
     "text": [
      "             precision    recall  f1-score   support\n",
      "\n",
      "     edible       0.98      1.00      0.99       852\n",
      "  poisonous       1.00      0.98      0.99       773\n",
      "\n",
      "avg / total       0.99      0.99      0.99      1625\n",
      "\n"
     ]
    }
   ],
   "source": [
    "from sklearn.metrics import classification_report\n",
    "target_names=['edible','poisonous'] # b/c 0=edible, 1=poisonous\n",
    "print(classification_report(y_test2, pred_classes, target_names=target_names))"
   ]
  },
  {
   "cell_type": "code",
   "execution_count": 91,
   "metadata": {},
   "outputs": [
    {
     "name": "stdout",
     "output_type": "stream",
     "text": [
      "[[0.996555  ]\n",
      " [0.04224996]\n",
      " [0.02911366]\n",
      " ...\n",
      " [0.99913484]\n",
      " [0.02911366]\n",
      " [0.04279618]]\n"
     ]
    }
   ],
   "source": [
    "print(model2.predict(X_test2))"
   ]
  },
  {
   "cell_type": "markdown",
   "metadata": {},
   "source": [
    "Based on this model, the following are more likely to be poisonous: \n",
    "* cap surfaces that are fibrous or with grooves. \n",
    "* cap shapes that are conical, flat, knobbed, or sunken\n",
    "* odors that are almond, creosote, foul, anise, musty, or none\n",
    "* habitats that are woods, grasses, or leaves"
   ]
  },
  {
   "cell_type": "markdown",
   "metadata": {},
   "source": [
    "#### Model 3"
   ]
  },
  {
   "cell_type": "code",
   "execution_count": 92,
   "metadata": {},
   "outputs": [
    {
     "data": {
      "text/html": [
       "<div>\n",
       "<style scoped>\n",
       "    .dataframe tbody tr th:only-of-type {\n",
       "        vertical-align: middle;\n",
       "    }\n",
       "\n",
       "    .dataframe tbody tr th {\n",
       "        vertical-align: top;\n",
       "    }\n",
       "\n",
       "    .dataframe thead th {\n",
       "        text-align: right;\n",
       "    }\n",
       "</style>\n",
       "<table border=\"1\" class=\"dataframe\">\n",
       "  <thead>\n",
       "    <tr style=\"text-align: right;\">\n",
       "      <th></th>\n",
       "      <th>class</th>\n",
       "      <th>cap-surface_f</th>\n",
       "      <th>cap-surface_g</th>\n",
       "      <th>cap-surface_s</th>\n",
       "      <th>cap-surface_y</th>\n",
       "      <th>cap-shape_b</th>\n",
       "      <th>cap-shape_c</th>\n",
       "      <th>cap-shape_f</th>\n",
       "      <th>cap-shape_k</th>\n",
       "      <th>cap-shape_s</th>\n",
       "      <th>...</th>\n",
       "      <th>odor_p</th>\n",
       "      <th>odor_s</th>\n",
       "      <th>odor_y</th>\n",
       "      <th>habitat_d</th>\n",
       "      <th>habitat_g</th>\n",
       "      <th>habitat_l</th>\n",
       "      <th>habitat_m</th>\n",
       "      <th>habitat_p</th>\n",
       "      <th>habitat_u</th>\n",
       "      <th>habitat_w</th>\n",
       "    </tr>\n",
       "  </thead>\n",
       "  <tbody>\n",
       "    <tr>\n",
       "      <th>0</th>\n",
       "      <td>1</td>\n",
       "      <td>0</td>\n",
       "      <td>0</td>\n",
       "      <td>1</td>\n",
       "      <td>0</td>\n",
       "      <td>0</td>\n",
       "      <td>0</td>\n",
       "      <td>0</td>\n",
       "      <td>0</td>\n",
       "      <td>0</td>\n",
       "      <td>...</td>\n",
       "      <td>1</td>\n",
       "      <td>0</td>\n",
       "      <td>0</td>\n",
       "      <td>0</td>\n",
       "      <td>0</td>\n",
       "      <td>0</td>\n",
       "      <td>0</td>\n",
       "      <td>0</td>\n",
       "      <td>1</td>\n",
       "      <td>0</td>\n",
       "    </tr>\n",
       "    <tr>\n",
       "      <th>1</th>\n",
       "      <td>0</td>\n",
       "      <td>0</td>\n",
       "      <td>0</td>\n",
       "      <td>1</td>\n",
       "      <td>0</td>\n",
       "      <td>0</td>\n",
       "      <td>0</td>\n",
       "      <td>0</td>\n",
       "      <td>0</td>\n",
       "      <td>0</td>\n",
       "      <td>...</td>\n",
       "      <td>0</td>\n",
       "      <td>0</td>\n",
       "      <td>0</td>\n",
       "      <td>0</td>\n",
       "      <td>1</td>\n",
       "      <td>0</td>\n",
       "      <td>0</td>\n",
       "      <td>0</td>\n",
       "      <td>0</td>\n",
       "      <td>0</td>\n",
       "    </tr>\n",
       "    <tr>\n",
       "      <th>2</th>\n",
       "      <td>0</td>\n",
       "      <td>0</td>\n",
       "      <td>0</td>\n",
       "      <td>1</td>\n",
       "      <td>0</td>\n",
       "      <td>1</td>\n",
       "      <td>0</td>\n",
       "      <td>0</td>\n",
       "      <td>0</td>\n",
       "      <td>0</td>\n",
       "      <td>...</td>\n",
       "      <td>0</td>\n",
       "      <td>0</td>\n",
       "      <td>0</td>\n",
       "      <td>0</td>\n",
       "      <td>0</td>\n",
       "      <td>0</td>\n",
       "      <td>1</td>\n",
       "      <td>0</td>\n",
       "      <td>0</td>\n",
       "      <td>0</td>\n",
       "    </tr>\n",
       "    <tr>\n",
       "      <th>3</th>\n",
       "      <td>1</td>\n",
       "      <td>0</td>\n",
       "      <td>0</td>\n",
       "      <td>0</td>\n",
       "      <td>1</td>\n",
       "      <td>0</td>\n",
       "      <td>0</td>\n",
       "      <td>0</td>\n",
       "      <td>0</td>\n",
       "      <td>0</td>\n",
       "      <td>...</td>\n",
       "      <td>1</td>\n",
       "      <td>0</td>\n",
       "      <td>0</td>\n",
       "      <td>0</td>\n",
       "      <td>0</td>\n",
       "      <td>0</td>\n",
       "      <td>0</td>\n",
       "      <td>0</td>\n",
       "      <td>1</td>\n",
       "      <td>0</td>\n",
       "    </tr>\n",
       "    <tr>\n",
       "      <th>4</th>\n",
       "      <td>0</td>\n",
       "      <td>0</td>\n",
       "      <td>0</td>\n",
       "      <td>1</td>\n",
       "      <td>0</td>\n",
       "      <td>0</td>\n",
       "      <td>0</td>\n",
       "      <td>0</td>\n",
       "      <td>0</td>\n",
       "      <td>0</td>\n",
       "      <td>...</td>\n",
       "      <td>0</td>\n",
       "      <td>0</td>\n",
       "      <td>0</td>\n",
       "      <td>0</td>\n",
       "      <td>1</td>\n",
       "      <td>0</td>\n",
       "      <td>0</td>\n",
       "      <td>0</td>\n",
       "      <td>0</td>\n",
       "      <td>0</td>\n",
       "    </tr>\n",
       "  </tbody>\n",
       "</table>\n",
       "<p>5 rows × 27 columns</p>\n",
       "</div>"
      ],
      "text/plain": [
       "   class  cap-surface_f  cap-surface_g  cap-surface_s  cap-surface_y  \\\n",
       "0      1              0              0              1              0   \n",
       "1      0              0              0              1              0   \n",
       "2      0              0              0              1              0   \n",
       "3      1              0              0              0              1   \n",
       "4      0              0              0              1              0   \n",
       "\n",
       "   cap-shape_b  cap-shape_c  cap-shape_f  cap-shape_k  cap-shape_s    ...      \\\n",
       "0            0            0            0            0            0    ...       \n",
       "1            0            0            0            0            0    ...       \n",
       "2            1            0            0            0            0    ...       \n",
       "3            0            0            0            0            0    ...       \n",
       "4            0            0            0            0            0    ...       \n",
       "\n",
       "   odor_p  odor_s  odor_y  habitat_d  habitat_g  habitat_l  habitat_m  \\\n",
       "0       1       0       0          0          0          0          0   \n",
       "1       0       0       0          0          1          0          0   \n",
       "2       0       0       0          0          0          0          1   \n",
       "3       1       0       0          0          0          0          0   \n",
       "4       0       0       0          0          1          0          0   \n",
       "\n",
       "   habitat_p  habitat_u  habitat_w  \n",
       "0          0          1          0  \n",
       "1          0          0          0  \n",
       "2          0          0          0  \n",
       "3          0          1          0  \n",
       "4          0          0          0  \n",
       "\n",
       "[5 rows x 27 columns]"
      ]
     },
     "execution_count": 92,
     "metadata": {},
     "output_type": "execute_result"
    }
   ],
   "source": [
    "mushrooms3 = df[['class', 'cap-surface', 'cap-shape', 'odor', 'habitat']].copy()\n",
    "mushrooms3['class'] = [1 if i == 'p' else 0 for i in mushrooms3['class']]\n",
    "mushrooms3 = pd.get_dummies(mushrooms3)\n",
    "mushrooms3.head()"
   ]
  },
  {
   "cell_type": "code",
   "execution_count": 93,
   "metadata": {},
   "outputs": [
    {
     "data": {
      "text/plain": [
       "Index(['class', 'cap-surface_f', 'cap-surface_g', 'cap-surface_s',\n",
       "       'cap-surface_y', 'cap-shape_b', 'cap-shape_c', 'cap-shape_f',\n",
       "       'cap-shape_k', 'cap-shape_s', 'cap-shape_x', 'odor_a', 'odor_c',\n",
       "       'odor_f', 'odor_l', 'odor_m', 'odor_n', 'odor_p', 'odor_s', 'odor_y',\n",
       "       'habitat_d', 'habitat_g', 'habitat_l', 'habitat_m', 'habitat_p',\n",
       "       'habitat_u', 'habitat_w'],\n",
       "      dtype='object')"
      ]
     },
     "execution_count": 93,
     "metadata": {},
     "output_type": "execute_result"
    }
   ],
   "source": [
    "mushrooms3.columns"
   ]
  },
  {
   "cell_type": "code",
   "execution_count": 94,
   "metadata": {},
   "outputs": [],
   "source": [
    "X3 = mushrooms3[['cap-surface_f', 'cap-surface_g','cap-shape_c', 'cap-shape_f', 'cap-shape_k', 'cap-shape_s', 'odor_a', 'odor_c',\n",
    "       'odor_f', 'odor_l', 'odor_m', 'odor_n',\n",
    "       'habitat_d', 'habitat_g', 'habitat_l']].copy()\n",
    "y3 = mushrooms3['class'].copy()"
   ]
  },
  {
   "cell_type": "code",
   "execution_count": 95,
   "metadata": {},
   "outputs": [],
   "source": [
    "from sklearn.model_selection import train_test_split\n",
    "X_train3, X_test3, y_train3, y_test3 = train_test_split(X3, y3, test_size = 0.2, \\\n",
    "        random_state = 0)"
   ]
  },
  {
   "cell_type": "code",
   "execution_count": 96,
   "metadata": {},
   "outputs": [
    {
     "data": {
      "text/plain": [
       "15"
      ]
     },
     "execution_count": 96,
     "metadata": {},
     "output_type": "execute_result"
    }
   ],
   "source": [
    "X_train3.shape[1]"
   ]
  },
  {
   "cell_type": "code",
   "execution_count": 97,
   "metadata": {},
   "outputs": [
    {
     "name": "stdout",
     "output_type": "stream",
     "text": [
      "_________________________________________________________________\n",
      "Layer (type)                 Output Shape              Param #   \n",
      "=================================================================\n",
      "first_hidden (Dense)         (None, 10)                160       \n",
      "_________________________________________________________________\n",
      "dropout_11 (Dropout)         (None, 10)                0         \n",
      "_________________________________________________________________\n",
      "batch_normalization_17 (Batc (None, 10)                40        \n",
      "_________________________________________________________________\n",
      "second_hidden (Dense)        (None, 10)                110       \n",
      "_________________________________________________________________\n",
      "batch_normalization_18 (Batc (None, 10)                40        \n",
      "_________________________________________________________________\n",
      "third_hidden (Dense)         (None, 10)                110       \n",
      "_________________________________________________________________\n",
      "batch_normalization_19 (Batc (None, 10)                40        \n",
      "_________________________________________________________________\n",
      "dropout_12 (Dropout)         (None, 10)                0         \n",
      "_________________________________________________________________\n",
      "fourth_hidden (Dense)        (None, 10)                110       \n",
      "_________________________________________________________________\n",
      "batch_normalization_20 (Batc (None, 10)                40        \n",
      "_________________________________________________________________\n",
      "output (Dense)               (None, 1)                 11        \n",
      "=================================================================\n",
      "Total params: 661\n",
      "Trainable params: 581\n",
      "Non-trainable params: 80\n",
      "_________________________________________________________________\n"
     ]
    }
   ],
   "source": [
    "model3 = Sequential() #1\n",
    "\n",
    "# NOTE: Use the number from the above shape command in the following statement\n",
    "# input_dim refers to number of nodes in the input layer.  Number after Dense \n",
    "# refers to number of neurons/nodes in the hidden layer\n",
    "# input and hidden layer #1.  Use relu, which is common for hidden layers\n",
    "model3.add(Dense(10, activation='relu', input_dim=15, name='first_hidden')) \n",
    "model3.add(Dropout(0.2))\n",
    "\n",
    "# Re-centers the results to insure they dont drift\n",
    "model3.add(BatchNormalization())\n",
    "\n",
    "# second hidden layer.  Use relu\n",
    "model3.add(Dense(10, activation = 'relu', name='second_hidden'))\n",
    "\n",
    "# Re-centers the results to insure they dont drift\n",
    "model3.add(BatchNormalization())\n",
    "\n",
    "# third hidden layer.  Use relu\n",
    "model3.add(Dense(10, activation = 'relu', name='third_hidden'))\n",
    "\n",
    "# Re-centers the results to insure they dont drift\n",
    "model3.add(BatchNormalization())\n",
    "\n",
    "model3.add(Dropout(0.2))\n",
    "\n",
    "model3.add(Dense(10, activation = 'relu', name='fourth_hidden'))\n",
    "\n",
    "model3.add(BatchNormalization())\n",
    "\n",
    "\n",
    "# output layer: use sigmoid since outputting a probability. Only one node\n",
    "model3.add(Dense(1, activation='sigmoid', name='output'))\n",
    "model3.summary()"
   ]
  },
  {
   "cell_type": "code",
   "execution_count": 98,
   "metadata": {},
   "outputs": [],
   "source": [
    "model3.compile(loss='binary_crossentropy', optimizer='adam', \\\n",
    "              metrics=['accuracy', 'mean_squared_error'])"
   ]
  },
  {
   "cell_type": "code",
   "execution_count": 99,
   "metadata": {},
   "outputs": [
    {
     "name": "stdout",
     "output_type": "stream",
     "text": [
      "Epoch 1/25\n",
      " - 5s - loss: 0.4831 - acc: 0.7672 - mean_squared_error: 0.1583\n",
      "Epoch 2/25\n",
      " - 2s - loss: 0.2813 - acc: 0.8998 - mean_squared_error: 0.0792\n",
      "Epoch 3/25\n",
      " - 2s - loss: 0.2205 - acc: 0.9291 - mean_squared_error: 0.0583\n",
      "Epoch 4/25\n",
      " - 2s - loss: 0.1907 - acc: 0.9448 - mean_squared_error: 0.0478\n",
      "Epoch 5/25\n",
      " - 2s - loss: 0.1729 - acc: 0.9497 - mean_squared_error: 0.0426\n",
      "Epoch 6/25\n",
      " - 2s - loss: 0.1749 - acc: 0.9546 - mean_squared_error: 0.0410\n",
      "Epoch 7/25\n",
      " - 2s - loss: 0.1447 - acc: 0.9635 - mean_squared_error: 0.0327\n",
      "Epoch 8/25\n",
      " - 2s - loss: 0.1291 - acc: 0.9708 - mean_squared_error: 0.0286\n",
      "Epoch 9/25\n",
      " - 2s - loss: 0.1291 - acc: 0.9717 - mean_squared_error: 0.0278\n",
      "Epoch 10/25\n",
      " - 2s - loss: 0.1097 - acc: 0.9754 - mean_squared_error: 0.0236\n",
      "Epoch 11/25\n",
      " - 2s - loss: 0.1157 - acc: 0.9731 - mean_squared_error: 0.0248\n",
      "Epoch 12/25\n",
      " - 2s - loss: 0.1158 - acc: 0.9748 - mean_squared_error: 0.0241\n",
      "Epoch 13/25\n",
      " - 2s - loss: 0.1053 - acc: 0.9769 - mean_squared_error: 0.0224\n",
      "Epoch 14/25\n",
      " - 2s - loss: 0.1108 - acc: 0.9769 - mean_squared_error: 0.0225\n",
      "Epoch 15/25\n",
      " - 2s - loss: 0.1138 - acc: 0.9752 - mean_squared_error: 0.0242\n",
      "Epoch 16/25\n",
      " - 2s - loss: 0.0975 - acc: 0.9788 - mean_squared_error: 0.0203\n",
      "Epoch 17/25\n",
      " - 2s - loss: 0.0987 - acc: 0.9782 - mean_squared_error: 0.0215\n",
      "Epoch 18/25\n",
      " - 2s - loss: 0.1064 - acc: 0.9775 - mean_squared_error: 0.0224\n",
      "Epoch 19/25\n",
      " - 2s - loss: 0.0987 - acc: 0.9785 - mean_squared_error: 0.0209\n",
      "Epoch 20/25\n",
      " - 2s - loss: 0.1033 - acc: 0.9785 - mean_squared_error: 0.0212\n",
      "Epoch 21/25\n",
      " - 2s - loss: 0.1038 - acc: 0.9795 - mean_squared_error: 0.0209\n",
      "Epoch 22/25\n",
      " - 2s - loss: 0.0988 - acc: 0.9786 - mean_squared_error: 0.0205\n",
      "Epoch 23/25\n",
      " - 2s - loss: 0.0895 - acc: 0.9814 - mean_squared_error: 0.0187\n",
      "Epoch 24/25\n",
      " - 2s - loss: 0.0922 - acc: 0.9808 - mean_squared_error: 0.0193\n",
      "Epoch 25/25\n",
      " - 2s - loss: 0.0971 - acc: 0.9795 - mean_squared_error: 0.0204\n"
     ]
    },
    {
     "data": {
      "text/plain": [
       "<keras.callbacks.History at 0x7fbb2c81e6d8>"
      ]
     },
     "execution_count": 99,
     "metadata": {},
     "output_type": "execute_result"
    }
   ],
   "source": [
    "model3.fit(X_train3, y_train3, batch_size = 10, epochs = 25, verbose=2)"
   ]
  },
  {
   "cell_type": "code",
   "execution_count": 100,
   "metadata": {},
   "outputs": [
    {
     "data": {
      "text/plain": [
       "array([[3356,    0],\n",
       "       [  98, 3045]])"
      ]
     },
     "execution_count": 100,
     "metadata": {},
     "output_type": "execute_result"
    }
   ],
   "source": [
    "pred_classes = model3.predict_classes(X_train3)\n",
    "from sklearn.metrics import confusion_matrix\n",
    "confusion_matrix(y_train3,pred_classes)"
   ]
  },
  {
   "cell_type": "code",
   "execution_count": 101,
   "metadata": {},
   "outputs": [
    {
     "name": "stdout",
     "output_type": "stream",
     "text": [
      "[[0.06082488]\n",
      " [0.048743  ]\n",
      " [0.04165018]\n",
      " ...\n",
      " [0.06034152]\n",
      " [0.04145377]\n",
      " [0.05316707]]\n"
     ]
    }
   ],
   "source": [
    "print(model3.predict(X_train3))"
   ]
  },
  {
   "cell_type": "code",
   "execution_count": 102,
   "metadata": {},
   "outputs": [
    {
     "name": "stdout",
     "output_type": "stream",
     "text": [
      "6499/6499 [==============================] - 1s 119us/step\n",
      "The model loss is 0.08, its accuracy is 0.98, and mse is 0.01. \n"
     ]
    }
   ],
   "source": [
    "loss, accuracy, mse = model3.evaluate(X_train3,y_train3)\n",
    "print(\"The model loss is {:.2f}, its accuracy is {:.2f}, and mse is {:.2f}. \".format(\\\n",
    "            loss,accuracy, mse))"
   ]
  },
  {
   "cell_type": "code",
   "execution_count": 103,
   "metadata": {},
   "outputs": [
    {
     "name": "stdout",
     "output_type": "stream",
     "text": [
      "             precision    recall  f1-score   support\n",
      "\n",
      "     edible       0.97      1.00      0.99      3356\n",
      "  poisonous       1.00      0.97      0.98      3143\n",
      "\n",
      "avg / total       0.99      0.98      0.98      6499\n",
      "\n"
     ]
    }
   ],
   "source": [
    "from sklearn.metrics import classification_report\n",
    "target_names=['edible','poisonous'] # b/c 0=edible, 1=poisonous\n",
    "print(classification_report(y_train3, pred_classes, target_names=target_names))"
   ]
  },
  {
   "cell_type": "code",
   "execution_count": 104,
   "metadata": {},
   "outputs": [
    {
     "data": {
      "text/plain": [
       "array([[852,   0],\n",
       "       [ 18, 755]])"
      ]
     },
     "execution_count": 104,
     "metadata": {},
     "output_type": "execute_result"
    }
   ],
   "source": [
    "pred_classes = model3.predict_classes(X_test3)\n",
    "from sklearn.metrics import confusion_matrix\n",
    "confusion_matrix(y_test3,pred_classes)"
   ]
  },
  {
   "cell_type": "markdown",
   "metadata": {},
   "source": [
    "* 852 mushrooms that are edible\n",
    "* 773 mushrooms that are poisonous\n",
    "* when the model predicts mushrooms are edible, it is accurate 852/870 or 98% of the time\n",
    "* when the model predicts mushrooms are poisonous, it is accurate 0/755 or 0% of the time.\n",
    "* When the mushroom is actually edible, it is accurate 852/852 or 100% of the time.\n",
    "* When the mushroom is actually poisonous, it is accurate (1-(18/773))*100 or 98% of the time."
   ]
  },
  {
   "cell_type": "code",
   "execution_count": 105,
   "metadata": {},
   "outputs": [
    {
     "name": "stdout",
     "output_type": "stream",
     "text": [
      "1625/1625 [==============================] - 0s 38us/step\n",
      "The model loss is 0.06 and its accuracy is 0.99., and mse is 0.01. \n"
     ]
    }
   ],
   "source": [
    "loss, accuracy, mse = model3.evaluate(X_test3,y_test3)\n",
    "print(\"The model loss is {:.2f} and its accuracy is {:.2f}., and mse is {:.2f}. \".format(loss, accuracy, mse))"
   ]
  },
  {
   "cell_type": "code",
   "execution_count": 106,
   "metadata": {},
   "outputs": [
    {
     "name": "stdout",
     "output_type": "stream",
     "text": [
      "             precision    recall  f1-score   support\n",
      "\n",
      "     edible       0.98      1.00      0.99       852\n",
      "  poisonous       1.00      0.98      0.99       773\n",
      "\n",
      "avg / total       0.99      0.99      0.99      1625\n",
      "\n"
     ]
    }
   ],
   "source": [
    "from sklearn.metrics import classification_report\n",
    "target_names=['edible','poisonous'] # b/c 0=edible, 1=poisonous\n",
    "print(classification_report(y_test3, pred_classes, target_names=target_names))"
   ]
  },
  {
   "cell_type": "code",
   "execution_count": 107,
   "metadata": {},
   "outputs": [
    {
     "name": "stdout",
     "output_type": "stream",
     "text": [
      "[[0.97217697]\n",
      " [0.05619944]\n",
      " [0.04356334]\n",
      " ...\n",
      " [0.99106544]\n",
      " [0.04356334]\n",
      " [0.05316707]]\n"
     ]
    }
   ],
   "source": [
    "print(model3.predict(X_test3))"
   ]
  },
  {
   "cell_type": "markdown",
   "metadata": {},
   "source": [
    "Based on this model, the following are more likely to be poisonous:\n",
    "\n",
    "* cap surfaces that are fibrous or with grooves.\n",
    "* cap shapes that are conical, flat, knobbed, or sunken\n",
    "* odors that are almond, creosote, foul, anise, musty, or none\n",
    "* habitats that are woods, grasses, or leaves"
   ]
  },
  {
   "cell_type": "markdown",
   "metadata": {},
   "source": [
    "### Model Architecture/Results"
   ]
  },
  {
   "cell_type": "markdown",
   "metadata": {},
   "source": [
    "| Model | # of Features | # of Neurons | # of Hidden Layers | # of Epochs | Activation Functions Used | Optimizer | Train/Test Accuracy\n",
    "| ---: | ---: | ---: | ---: | ---: | ---: | ---: | ---: |\n",
    "| 1 | 6 | 12 - layer 1, 10 - layer 2, 10 - layer 3 | 3 | 25 | relu, sigmoid | Adam | 61%/62% |\n",
    "| 2 | 15 | 12 - layer 1, 10 - layer 2, 10 - layer 3 | 3 | 25 | relu, sigmoid | Adam | 99%/99% |\n",
    "| 3 | 15| 10 - layer 1, 10 - layer 2, 10 - layer 3, 10 - layer 4 | 4 | 25 | relu, sigmoid | Adam | 98%/99% |"
   ]
  },
  {
   "cell_type": "markdown",
   "metadata": {},
   "source": [
    "The \"best\" model is model 2 due to returning a 99% accuracy for train/test in determining a mushroom is poisonous. I used relu and sigmoid for all 3 models due to Relu being the most common activation function to use and sigmoid since the output is a single probability value that represents p(poisonous)."
   ]
  },
  {
   "cell_type": "markdown",
   "metadata": {},
   "source": [
    "### Appendix"
   ]
  },
  {
   "cell_type": "code",
   "execution_count": 584,
   "metadata": {},
   "outputs": [
    {
     "data": {
      "text/html": [
       "<style>\n",
       "table {float:left}\n",
       "</style>"
      ],
      "text/plain": [
       "<IPython.core.display.HTML object>"
      ]
     },
     "metadata": {},
     "output_type": "display_data"
    }
   ],
   "source": [
    "%%html\n",
    "<style>\n",
    "table {float:left}\n",
    "</style>"
   ]
  },
  {
   "cell_type": "code",
   "execution_count": 108,
   "metadata": {},
   "outputs": [
    {
     "data": {
      "image/png": "[encoded data removed]",
      "text/plain": [
       "<Figure size 432x288 with 1 Axes>"
      ]
     },
     "metadata": {
      "needs_background": "light"
     },
     "output_type": "display_data"
    }
   ],
   "source": [
    "import matplotlib.pyplot as plt\n",
    "%matplotlib inline \n",
    "\n",
    "history = model.fit(X_train, y_train, batch_size = 10, validation_data=(X_test, y_test), epochs = 25, verbose=0)\n",
    "\n",
    "plt.plot(history.history['acc'], label='train')\n",
    "plt.plot(history.history['val_acc'], label='test')\n",
    "plt.title('Model accuracy')\n",
    "plt.legend()\n",
    "plt.ylabel('Accuracy')\n",
    "plt.xlabel('Epoch')\n",
    "plt.show()"
   ]
  },
  {
   "cell_type": "code",
   "execution_count": 109,
   "metadata": {},
   "outputs": [
    {
     "data": {
      "image/png": "[encoded data removed]",
      "text/plain": [
       "<Figure size 432x288 with 1 Axes>"
      ]
     },
     "metadata": {
      "needs_background": "light"
     },
     "output_type": "display_data"
    }
   ],
   "source": [
    "import matplotlib.pyplot as plt\n",
    "%matplotlib inline \n",
    "\n",
    "history = model2.fit(X_train2, y_train2, batch_size = 10, validation_data=(X_test2, y_test2), epochs = 25, verbose=0)\n",
    "\n",
    "plt.plot(history.history['acc'], label='train')\n",
    "plt.plot(history.history['val_acc'], label='test')\n",
    "plt.title('Model accuracy')\n",
    "plt.legend()\n",
    "plt.ylabel('Accuracy')\n",
    "plt.xlabel('Epoch')\n",
    "plt.show()"
   ]
  },
  {
   "cell_type": "code",
   "execution_count": 110,
   "metadata": {},
   "outputs": [
    {
     "data": {
      "image/png": "[encoded data removed]",
      "text/plain": [
       "<Figure size 432x288 with 1 Axes>"
      ]
     },
     "metadata": {
      "needs_background": "light"
     },
     "output_type": "display_data"
    }
   ],
   "source": [
    "import matplotlib.pyplot as plt\n",
    "%matplotlib inline \n",
    "\n",
    "history = model3.fit(X_train3, y_train3, batch_size = 10, validation_data=(X_test3, y_test3), epochs = 25, verbose=0)\n",
    "\n",
    "plt.plot(history.history['acc'], label='train')\n",
    "plt.plot(history.history['val_acc'], label='test')\n",
    "plt.title('Model accuracy')\n",
    "plt.legend()\n",
    "plt.ylabel('Accuracy')\n",
    "plt.xlabel('Epoch')\n",
    "plt.show()"
   ]
  },
  {
   "cell_type": "code",
   "execution_count": 588,
   "metadata": {},
   "outputs": [
    {
     "data": {
      "text/html": [
       "<div>\n",
       "<style scoped>\n",
       "    .dataframe tbody tr th:only-of-type {\n",
       "        vertical-align: middle;\n",
       "    }\n",
       "\n",
       "    .dataframe tbody tr th {\n",
       "        vertical-align: top;\n",
       "    }\n",
       "\n",
       "    .dataframe thead th {\n",
       "        text-align: right;\n",
       "    }\n",
       "</style>\n",
       "<table border=\"1\" class=\"dataframe\">\n",
       "  <thead>\n",
       "    <tr style=\"text-align: right;\">\n",
       "      <th>cap-shape</th>\n",
       "      <th>b</th>\n",
       "      <th>c</th>\n",
       "      <th>f</th>\n",
       "      <th>k</th>\n",
       "      <th>s</th>\n",
       "      <th>x</th>\n",
       "    </tr>\n",
       "    <tr>\n",
       "      <th>class</th>\n",
       "      <th></th>\n",
       "      <th></th>\n",
       "      <th></th>\n",
       "      <th></th>\n",
       "      <th></th>\n",
       "      <th></th>\n",
       "    </tr>\n",
       "  </thead>\n",
       "  <tbody>\n",
       "    <tr>\n",
       "      <th>e</th>\n",
       "      <td>404</td>\n",
       "      <td>0</td>\n",
       "      <td>1596</td>\n",
       "      <td>228</td>\n",
       "      <td>32</td>\n",
       "      <td>1948</td>\n",
       "    </tr>\n",
       "    <tr>\n",
       "      <th>p</th>\n",
       "      <td>48</td>\n",
       "      <td>4</td>\n",
       "      <td>1556</td>\n",
       "      <td>600</td>\n",
       "      <td>0</td>\n",
       "      <td>1708</td>\n",
       "    </tr>\n",
       "  </tbody>\n",
       "</table>\n",
       "</div>"
      ],
      "text/plain": [
       "cap-shape    b  c     f    k   s     x\n",
       "class                                 \n",
       "e          404  0  1596  228  32  1948\n",
       "p           48  4  1556  600   0  1708"
      ]
     },
     "execution_count": 588,
     "metadata": {},
     "output_type": "execute_result"
    }
   ],
   "source": [
    "pd.crosstab(df['class'], df['cap-shape'])"
   ]
  },
  {
   "cell_type": "code",
   "execution_count": 589,
   "metadata": {},
   "outputs": [
    {
     "data": {
      "text/html": [
       "<div>\n",
       "<style scoped>\n",
       "    .dataframe tbody tr th:only-of-type {\n",
       "        vertical-align: middle;\n",
       "    }\n",
       "\n",
       "    .dataframe tbody tr th {\n",
       "        vertical-align: top;\n",
       "    }\n",
       "\n",
       "    .dataframe thead th {\n",
       "        text-align: right;\n",
       "    }\n",
       "</style>\n",
       "<table border=\"1\" class=\"dataframe\">\n",
       "  <thead>\n",
       "    <tr style=\"text-align: right;\">\n",
       "      <th>cap-surface</th>\n",
       "      <th>f</th>\n",
       "      <th>g</th>\n",
       "      <th>s</th>\n",
       "      <th>y</th>\n",
       "    </tr>\n",
       "    <tr>\n",
       "      <th>class</th>\n",
       "      <th></th>\n",
       "      <th></th>\n",
       "      <th></th>\n",
       "      <th></th>\n",
       "    </tr>\n",
       "  </thead>\n",
       "  <tbody>\n",
       "    <tr>\n",
       "      <th>e</th>\n",
       "      <td>1560</td>\n",
       "      <td>0</td>\n",
       "      <td>1144</td>\n",
       "      <td>1504</td>\n",
       "    </tr>\n",
       "    <tr>\n",
       "      <th>p</th>\n",
       "      <td>760</td>\n",
       "      <td>4</td>\n",
       "      <td>1412</td>\n",
       "      <td>1740</td>\n",
       "    </tr>\n",
       "  </tbody>\n",
       "</table>\n",
       "</div>"
      ],
      "text/plain": [
       "cap-surface     f  g     s     y\n",
       "class                           \n",
       "e            1560  0  1144  1504\n",
       "p             760  4  1412  1740"
      ]
     },
     "execution_count": 589,
     "metadata": {},
     "output_type": "execute_result"
    }
   ],
   "source": [
    "pd.crosstab(df['class'], df['cap-surface'])"
   ]
  },
  {
   "cell_type": "code",
   "execution_count": 590,
   "metadata": {},
   "outputs": [
    {
     "data": {
      "text/html": [
       "<div>\n",
       "<style scoped>\n",
       "    .dataframe tbody tr th:only-of-type {\n",
       "        vertical-align: middle;\n",
       "    }\n",
       "\n",
       "    .dataframe tbody tr th {\n",
       "        vertical-align: top;\n",
       "    }\n",
       "\n",
       "    .dataframe thead th {\n",
       "        text-align: right;\n",
       "    }\n",
       "</style>\n",
       "<table border=\"1\" class=\"dataframe\">\n",
       "  <thead>\n",
       "    <tr style=\"text-align: right;\">\n",
       "      <th>gill-color</th>\n",
       "      <th>b</th>\n",
       "      <th>e</th>\n",
       "      <th>g</th>\n",
       "      <th>h</th>\n",
       "      <th>k</th>\n",
       "      <th>n</th>\n",
       "      <th>o</th>\n",
       "      <th>p</th>\n",
       "      <th>r</th>\n",
       "      <th>u</th>\n",
       "      <th>w</th>\n",
       "      <th>y</th>\n",
       "    </tr>\n",
       "    <tr>\n",
       "      <th>class</th>\n",
       "      <th></th>\n",
       "      <th></th>\n",
       "      <th></th>\n",
       "      <th></th>\n",
       "      <th></th>\n",
       "      <th></th>\n",
       "      <th></th>\n",
       "      <th></th>\n",
       "      <th></th>\n",
       "      <th></th>\n",
       "      <th></th>\n",
       "      <th></th>\n",
       "    </tr>\n",
       "  </thead>\n",
       "  <tbody>\n",
       "    <tr>\n",
       "      <th>e</th>\n",
       "      <td>0</td>\n",
       "      <td>96</td>\n",
       "      <td>248</td>\n",
       "      <td>204</td>\n",
       "      <td>344</td>\n",
       "      <td>936</td>\n",
       "      <td>64</td>\n",
       "      <td>852</td>\n",
       "      <td>0</td>\n",
       "      <td>444</td>\n",
       "      <td>956</td>\n",
       "      <td>64</td>\n",
       "    </tr>\n",
       "    <tr>\n",
       "      <th>p</th>\n",
       "      <td>1728</td>\n",
       "      <td>0</td>\n",
       "      <td>504</td>\n",
       "      <td>528</td>\n",
       "      <td>64</td>\n",
       "      <td>112</td>\n",
       "      <td>0</td>\n",
       "      <td>640</td>\n",
       "      <td>24</td>\n",
       "      <td>48</td>\n",
       "      <td>246</td>\n",
       "      <td>22</td>\n",
       "    </tr>\n",
       "  </tbody>\n",
       "</table>\n",
       "</div>"
      ],
      "text/plain": [
       "gill-color     b   e    g    h    k    n   o    p   r    u    w   y\n",
       "class                                                              \n",
       "e              0  96  248  204  344  936  64  852   0  444  956  64\n",
       "p           1728   0  504  528   64  112   0  640  24   48  246  22"
      ]
     },
     "execution_count": 590,
     "metadata": {},
     "output_type": "execute_result"
    }
   ],
   "source": [
    "pd.crosstab(df['class'], df['gill-color'])"
   ]
  },
  {
   "cell_type": "code",
   "execution_count": 591,
   "metadata": {},
   "outputs": [
    {
     "data": {
      "text/html": [
       "<div>\n",
       "<style scoped>\n",
       "    .dataframe tbody tr th:only-of-type {\n",
       "        vertical-align: middle;\n",
       "    }\n",
       "\n",
       "    .dataframe tbody tr th {\n",
       "        vertical-align: top;\n",
       "    }\n",
       "\n",
       "    .dataframe thead th {\n",
       "        text-align: right;\n",
       "    }\n",
       "</style>\n",
       "<table border=\"1\" class=\"dataframe\">\n",
       "  <thead>\n",
       "    <tr style=\"text-align: right;\">\n",
       "      <th>gill-spacing</th>\n",
       "      <th>c</th>\n",
       "      <th>w</th>\n",
       "    </tr>\n",
       "    <tr>\n",
       "      <th>class</th>\n",
       "      <th></th>\n",
       "      <th></th>\n",
       "    </tr>\n",
       "  </thead>\n",
       "  <tbody>\n",
       "    <tr>\n",
       "      <th>e</th>\n",
       "      <td>3008</td>\n",
       "      <td>1200</td>\n",
       "    </tr>\n",
       "    <tr>\n",
       "      <th>p</th>\n",
       "      <td>3804</td>\n",
       "      <td>112</td>\n",
       "    </tr>\n",
       "  </tbody>\n",
       "</table>\n",
       "</div>"
      ],
      "text/plain": [
       "gill-spacing     c     w\n",
       "class                   \n",
       "e             3008  1200\n",
       "p             3804   112"
      ]
     },
     "execution_count": 591,
     "metadata": {},
     "output_type": "execute_result"
    }
   ],
   "source": [
    "pd.crosstab(df['class'], df['gill-spacing'])"
   ]
  },
  {
   "cell_type": "code",
   "execution_count": 592,
   "metadata": {},
   "outputs": [
    {
     "data": {
      "image/png": "[encoded data removed]",
      "text/plain": [
       "<Figure size 432x288 with 1 Axes>"
      ]
     },
     "metadata": {
      "needs_background": "light"
     },
     "output_type": "display_data"
    },
    {
     "data": {
      "image/png": "[encoded data removed]",
      "text/plain": [
       "<Figure size 842.4x595.44 with 1 Axes>"
      ]
     },
     "metadata": {},
     "output_type": "display_data"
    },
    {
     "data": {
      "image/png": "[encoded data removed]",
      "text/plain": [
       "<Figure size 842.4x595.44 with 1 Axes>"
      ]
     },
     "metadata": {},
     "output_type": "display_data"
    },
    {
     "data": {
      "image/png": "[encoded data removed]",
      "text/plain": [
       "<Figure size 842.4x595.44 with 1 Axes>"
      ]
     },
     "metadata": {},
     "output_type": "display_data"
    },
    {
     "data": {
      "image/png": "[encoded data removed]",
      "text/plain": [
       "<Figure size 842.4x595.44 with 1 Axes>"
      ]
     },
     "metadata": {},
     "output_type": "display_data"
    },
    {
     "data": {
      "image/png": "[encoded data removed]",
      "text/plain": [
       "<Figure size 842.4x595.44 with 1 Axes>"
      ]
     },
     "metadata": {},
     "output_type": "display_data"
    },
    {
     "data": {
      "image/png": "[encoded data removed]",
      "text/plain": [
       "<Figure size 842.4x595.44 with 1 Axes>"
      ]
     },
     "metadata": {},
     "output_type": "display_data"
    },
    {
     "data": {
      "image/png": "[encoded data removed]",
      "text/plain": [
       "<Figure size 842.4x595.44 with 1 Axes>"
      ]
     },
     "metadata": {},
     "output_type": "display_data"
    },
    {
     "data": {
      "image/png": "[encoded data removed]",
      "text/plain": [
       "<Figure size 842.4x595.44 with 1 Axes>"
      ]
     },
     "metadata": {},
     "output_type": "display_data"
    },
    {
     "data": {
      "image/png": "[encoded data removed]",
      "text/plain": [
       "<Figure size 842.4x595.44 with 1 Axes>"
      ]
     },
     "metadata": {},
     "output_type": "display_data"
    },
    {
     "data": {
      "image/png": "[encoded data removed]",
      "text/plain": [
       "<Figure size 842.4x595.44 with 1 Axes>"
      ]
     },
     "metadata": {},
     "output_type": "display_data"
    },
    {
     "data": {
      "image/png": "[encoded data removed]",
      "text/plain": [
       "<Figure size 842.4x595.44 with 1 Axes>"
      ]
     },
     "metadata": {},
     "output_type": "display_data"
    },
    {
     "data": {
      "image/png": "[encoded data removed]",
      "text/plain": [
       "<Figure size 842.4x595.44 with 1 Axes>"
      ]
     },
     "metadata": {},
     "output_type": "display_data"
    },
    {
     "data": {
      "image/png": "[encoded data removed]",
      "text/plain": [
       "<Figure size 842.4x595.44 with 1 Axes>"
      ]
     },
     "metadata": {},
     "output_type": "display_data"
    },
    {
     "data": {
      "image/png": "[encoded data removed]",
      "text/plain": [
       "<Figure size 842.4x595.44 with 1 Axes>"
      ]
     },
     "metadata": {},
     "output_type": "display_data"
    },
    {
     "data": {
      "image/png": "[encoded data removed]",
      "text/plain": [
       "<Figure size 842.4x595.44 with 1 Axes>"
      ]
     },
     "metadata": {},
     "output_type": "display_data"
    },
    {
     "data": {
      "image/png": "[encoded data removed]",
      "text/plain": [
       "<Figure size 842.4x595.44 with 1 Axes>"
      ]
     },
     "metadata": {},
     "output_type": "display_data"
    },
    {
     "data": {
      "image/png": "[encoded data removed]",
      "text/plain": [
       "<Figure size 842.4x595.44 with 1 Axes>"
      ]
     },
     "metadata": {},
     "output_type": "display_data"
    },
    {
     "data": {
      "image/png": "[encoded data removed]",
      "text/plain": [
       "<Figure size 842.4x595.44 with 1 Axes>"
      ]
     },
     "metadata": {},
     "output_type": "display_data"
    },
    {
     "data": {
      "image/png": "[encoded data removed]",
      "text/plain": [
       "<Figure size 842.4x595.44 with 1 Axes>"
      ]
     },
     "metadata": {},
     "output_type": "display_data"
    },
    {
     "data": {
      "image/png": "[encoded data removed]",
      "text/plain": [
       "<Figure size 842.4x595.44 with 1 Axes>"
      ]
     },
     "metadata": {},
     "output_type": "display_data"
    },
    {
     "data": {
      "image/png": "[encoded data removed]",
      "text/plain": [
       "<Figure size 842.4x595.44 with 1 Axes>"
      ]
     },
     "metadata": {},
     "output_type": "display_data"
    },
    {
     "data": {
      "image/png": "[encoded data removed]",
      "text/plain": [
       "<Figure size 842.4x595.44 with 1 Axes>"
      ]
     },
     "metadata": {},
     "output_type": "display_data"
    }
   ],
   "source": [
    "def plot_data(hue, data):\n",
    "    for i, col in enumerate(data.columns):\n",
    "        plt.figure(i)\n",
    "        sns.set(rc={'figure.figsize':(11.7,8.27)})\n",
    "        ax = sns.countplot(x=data[col], hue=hue, data=data)\n",
    "        \n",
    "hue = df['class']\n",
    "df_plot = df.drop('class', 1)\n",
    "plot_data(hue, df)"
   ]
  }
 ],
 "metadata": {
  "kernelspec": {
   "display_name": "Python 3",
   "language": "python",
   "name": "python3"
  },
  "language_info": {
   "codemirror_mode": {
    "name": "ipython",
    "version": 3
   },
   "file_extension": ".py",
   "mimetype": "text/x-python",
   "name": "python",
   "nbconvert_exporter": "python",
   "pygments_lexer": "ipython3",
   "version": "3.8.3"
  }
 },
 "nbformat": 4,
 "nbformat_minor": 4
}
